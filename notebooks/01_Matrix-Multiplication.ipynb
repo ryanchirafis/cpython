{
  "cells": [
    {
      "cell_type": "markdown",
      "metadata": {
        "id": "hEVYHHX4R4n5"
      },
      "source": [
        "# Quick Maths with Matrices!\n",
        "---"
      ]
    },
    {
      "cell_type": "markdown",
      "metadata": {
        "toc": true,
        "id": "GrpYENqkR4n6"
      },
      "source": [
        "<h1>Table of Contents<span class=\"tocSkip\"></span></h1>\n",
        "<div class=\"toc\"><ul class=\"toc-item\"><li><span><a href=\"#Quick-Maths-with-Matrices!\" data-toc-modified-id=\"Quick-Maths-with-Matrices!-1\"><span class=\"toc-item-num\">1&nbsp;&nbsp;</span>Quick Maths with Matrices!</a></span><ul class=\"toc-item\"><li><span><a href=\"#Import-Libraries\" data-toc-modified-id=\"Import-Libraries-1.1\"><span class=\"toc-item-num\">1.1&nbsp;&nbsp;</span>Import Libraries</a></span></li><li><span><a href=\"#Test-Framework\" data-toc-modified-id=\"Test-Framework-1.2\"><span class=\"toc-item-num\">1.2&nbsp;&nbsp;</span>Test Framework</a></span></li></ul></li><li><span><a href=\"#Optimizing-Matrix-Multiplications\" data-toc-modified-id=\"Optimizing-Matrix-Multiplications-2\"><span class=\"toc-item-num\">2&nbsp;&nbsp;</span>Optimizing Matrix Multiplications</a></span><ul class=\"toc-item\"><li><span><a href=\"#For-Loop\" data-toc-modified-id=\"For-Loop-2.1\"><span class=\"toc-item-num\">2.1&nbsp;&nbsp;</span>For Loop</a></span></li><li><span><a href=\"#Array-Slicing\" data-toc-modified-id=\"Array-Slicing-2.2\"><span class=\"toc-item-num\">2.2&nbsp;&nbsp;</span>Array Slicing</a></span></li><li><span><a href=\"#Improvement-with-array-slicing\" data-toc-modified-id=\"Improvement-with-array-slicing-2.3\"><span class=\"toc-item-num\">2.3&nbsp;&nbsp;</span>Improvement with array slicing</a></span></li><li><span><a href=\"#Array-Broadcasting\" data-toc-modified-id=\"Array-Broadcasting-2.4\"><span class=\"toc-item-num\">2.4&nbsp;&nbsp;</span>Array Broadcasting</a></span></li><li><span><a href=\"#Improvement-with-array-broadcasting\" data-toc-modified-id=\"Improvement-with-array-broadcasting-2.5\"><span class=\"toc-item-num\">2.5&nbsp;&nbsp;</span>Improvement with array broadcasting</a></span></li><li><span><a href=\"#Einstein-Sum\" data-toc-modified-id=\"Einstein-Sum-2.6\"><span class=\"toc-item-num\">2.6&nbsp;&nbsp;</span>Einstein Sum</a></span></li><li><span><a href=\"#Improvement-with-einstein-sum\" data-toc-modified-id=\"Improvement-with-einstein-sum-2.7\"><span class=\"toc-item-num\">2.7&nbsp;&nbsp;</span>Improvement with einstein sum</a></span></li><li><span><a href=\"#Linear-Algebra-Libraries\" data-toc-modified-id=\"Linear-Algebra-Libraries-2.8\"><span class=\"toc-item-num\">2.8&nbsp;&nbsp;</span>Linear Algebra Libraries</a></span></li><li><span><a href=\"#Improvement-with-linear-algebra-libraries\" data-toc-modified-id=\"Improvement-with-linear-algebra-libraries-2.9\"><span class=\"toc-item-num\">2.9&nbsp;&nbsp;</span>Improvement with linear algebra libraries</a></span></li></ul></li></ul></div>"
      ]
    },
    {
      "cell_type": "markdown",
      "metadata": {
        "id": "m434cuxYR4n6"
      },
      "source": [
        "## Import Libraries"
      ]
    },
    {
      "cell_type": "code",
      "execution_count": 1,
      "metadata": {
        "id": "zjNyNEpGR4n7"
      },
      "outputs": [],
      "source": [
        "import torch\n",
        "import timeit\n",
        "import operator\n",
        "from functools import partial"
      ]
    },
    {
      "cell_type": "markdown",
      "metadata": {
        "id": "9uSAcQfyR4n7"
      },
      "source": [
        "## Test Framework"
      ]
    },
    {
      "cell_type": "code",
      "execution_count": 2,
      "metadata": {
        "id": "VYxS5-9oR4n7"
      },
      "outputs": [],
      "source": [
        "def test(a, b, compare, compare_name=None):\n",
        "    if compare_name is None:\n",
        "        compare_name = compare.__name__\n",
        "    assert compare(a, b),\\\n",
        "    f\"{compare_name} check failed:\\n{a}\\n{b}\"\n",
        "\n",
        "def test_equality(a, b):\n",
        "    test(a, b, operator.eq, \"Equality\")\n",
        "\n",
        "def test_approximately(a, b):\n",
        "    allclose = partial(torch.allclose, atol=1e-5, rtol=1e-03)\n",
        "    if not isinstance(a, torch.Tensor) or not isinstance(b, torch.Tensor):\n",
        "        a = torch.tensor(a)\n",
        "        b = torch.tensor(b)\n",
        "    test(a, b, allclose, \"Approximate Equality\")"
      ]
    },
    {
      "cell_type": "code",
      "execution_count": 3,
      "metadata": {
        "id": "tS8B_5CqR4n7"
      },
      "outputs": [],
      "source": [
        "test_equality(1e-5,1e-5)"
      ]
    },
    {
      "cell_type": "code",
      "execution_count": 4,
      "metadata": {
        "id": "OAtpiePxR4n8"
      },
      "outputs": [],
      "source": [
        "test_approximately(1e-5, 1e-6)"
      ]
    },
    {
      "cell_type": "markdown",
      "metadata": {
        "id": "pnfzw56PR4n8"
      },
      "source": [
        "# Optimizing Matrix Multiplications"
      ]
    },
    {
      "cell_type": "markdown",
      "metadata": {
        "id": "wcz1da5oR4n8"
      },
      "source": [
        "**Toy Variables**"
      ]
    },
    {
      "cell_type": "code",
      "execution_count": 5,
      "metadata": {
        "id": "ol2XdW6yR4n9"
      },
      "outputs": [],
      "source": [
        "a = torch.tensor([[1.,2.,1.],\n",
        "                  [2.,3.,2.],\n",
        "                  [3.,1.,3.]])\n",
        "\n",
        "b = torch.tensor([[1., 2.],\n",
        "                  [2., 1.],\n",
        "                  [1., 2.]])"
      ]
    },
    {
      "cell_type": "code",
      "execution_count": 6,
      "metadata": {
        "colab": {
          "base_uri": "https://localhost:8080/"
        },
        "id": "59kmJv6JR4n9",
        "outputId": "0692ddda-970e-4cf4-8e4f-bb3a89b336eb"
      },
      "outputs": [
        {
          "output_type": "execute_result",
          "data": {
            "text/plain": [
              "tensor([[ 6.,  6.],\n",
              "        [10., 11.],\n",
              "        [ 8., 13.]])"
            ]
          },
          "metadata": {},
          "execution_count": 6
        }
      ],
      "source": [
        "a@b"
      ]
    },
    {
      "cell_type": "markdown",
      "metadata": {
        "id": "F2su-I9WR4n9"
      },
      "source": [
        "**Test Variables**"
      ]
    },
    {
      "cell_type": "code",
      "execution_count": 7,
      "metadata": {
        "id": "AlfQ0IWuR4n9"
      },
      "outputs": [],
      "source": [
        "A = torch.randn([64,32])\n",
        "B = torch.randn([32,64])"
      ]
    },
    {
      "cell_type": "code",
      "execution_count": 8,
      "metadata": {
        "colab": {
          "base_uri": "https://localhost:8080/"
        },
        "id": "qmXoipRiR4n9",
        "outputId": "1a6341e0-686c-4501-ec33-1c716fd3e3b2"
      },
      "outputs": [
        {
          "output_type": "execute_result",
          "data": {
            "text/plain": [
              "torch.Size([64, 64])"
            ]
          },
          "metadata": {},
          "execution_count": 8
        }
      ],
      "source": [
        "(A@B).shape"
      ]
    },
    {
      "cell_type": "markdown",
      "metadata": {
        "id": "3YwTLZP0R4n9"
      },
      "source": [
        "## For Loop"
      ]
    },
    {
      "cell_type": "code",
      "execution_count": 9,
      "metadata": {
        "id": "1yrZLNTdR4n-"
      },
      "outputs": [],
      "source": [
        "def matmul(A,B):\n",
        "    A_rows, A_cols = A.shape\n",
        "    B_rows, B_cols = B.shape\n",
        "    assert A_cols==B_rows,\\\n",
        "    f\"Inner dimensions must match: {A_cols} not equal to {B_rows}\"\n",
        "    C = torch.zeros([A_rows, B_cols])\n",
        "    for i in range(A_rows):\n",
        "        for j in range(B_cols):\n",
        "            for k in range(A_cols):\n",
        "                C[i,j] += A[i,k] * B[k,j]\n",
        "    return C"
      ]
    },
    {
      "cell_type": "code",
      "execution_count": 10,
      "metadata": {
        "colab": {
          "base_uri": "https://localhost:8080/"
        },
        "id": "hSRSMnNYR4n-",
        "outputId": "24803f8d-9cb0-4af6-c4bb-1841edfd08f6"
      },
      "outputs": [
        {
          "output_type": "execute_result",
          "data": {
            "text/plain": [
              "tensor([[ 6.,  6.],\n",
              "        [10., 11.],\n",
              "        [ 8., 13.]])"
            ]
          },
          "metadata": {},
          "execution_count": 10
        }
      ],
      "source": [
        "matmul(a,b)"
      ]
    },
    {
      "cell_type": "code",
      "execution_count": 11,
      "metadata": {
        "id": "AwOi1SR4R4n-"
      },
      "outputs": [],
      "source": [
        "test_approximately(matmul(A, B), (A@B))"
      ]
    },
    {
      "cell_type": "code",
      "execution_count": 12,
      "metadata": {
        "colab": {
          "base_uri": "https://localhost:8080/"
        },
        "id": "RVMey09sR4n-",
        "outputId": "aa70eb80-b8c6-44d2-863a-fc61ba60efb6"
      },
      "outputs": [
        {
          "output_type": "execute_result",
          "data": {
            "text/plain": [
              "15.216818227999966"
            ]
          },
          "metadata": {},
          "execution_count": 12
        }
      ],
      "source": [
        "matmul_loop_time = timeit.timeit(partial(matmul,A,B), number=10)\n",
        "matmul_loop_time"
      ]
    },
    {
      "cell_type": "markdown",
      "metadata": {
        "id": "BSgPVYR9R4n-"
      },
      "source": [
        "## Array Slicing"
      ]
    },
    {
      "cell_type": "code",
      "execution_count": 13,
      "metadata": {
        "id": "CzOmLQ_XR4n-"
      },
      "outputs": [],
      "source": [
        "def matmul(A,B):\n",
        "    A_rows, A_cols = A.shape\n",
        "    B_rows, B_cols = B.shape\n",
        "    assert A_cols==B_rows,\\\n",
        "    f\"Inner dimensions must match: {A_cols} not equal to {B_rows}\"\n",
        "    C = torch.zeros([A_rows, B_cols])\n",
        "    for i in range(A_rows):\n",
        "        for j in range(B_cols):\n",
        "            C[i,j] += (A[i,:]*B[:,j]).sum()\n",
        "    return C"
      ]
    },
    {
      "cell_type": "code",
      "execution_count": 14,
      "metadata": {
        "colab": {
          "base_uri": "https://localhost:8080/"
        },
        "id": "KLr6vDm-R4n-",
        "outputId": "d705ec23-db85-46a1-b1fc-560ac596298b"
      },
      "outputs": [
        {
          "output_type": "execute_result",
          "data": {
            "text/plain": [
              "tensor([[ 6.,  6.],\n",
              "        [10., 11.],\n",
              "        [ 8., 13.]])"
            ]
          },
          "metadata": {},
          "execution_count": 14
        }
      ],
      "source": [
        "matmul(a,b)"
      ]
    },
    {
      "cell_type": "code",
      "execution_count": 15,
      "metadata": {
        "id": "klUt8gjCR4n-"
      },
      "outputs": [],
      "source": [
        "test_approximately(matmul(A,B), (A@B))"
      ]
    },
    {
      "cell_type": "code",
      "execution_count": 16,
      "metadata": {
        "id": "u4jVu2WqR4n-"
      },
      "outputs": [],
      "source": [
        "matmul_slice_time = timeit.timeit(partial(matmul,A,B), number=10)"
      ]
    },
    {
      "cell_type": "markdown",
      "metadata": {
        "id": "JoeF6EdHR4n-"
      },
      "source": [
        "## Improvement with array slicing\n",
        "How fast is matrix multiplication with array slicing in two nested loops compared to element wise product in three nested loops?"
      ]
    },
    {
      "cell_type": "code",
      "execution_count": 17,
      "metadata": {
        "colab": {
          "base_uri": "https://localhost:8080/"
        },
        "id": "mqsp4xGMR4n_",
        "outputId": "d927b087-1b56-4cba-dbcd-94a059edf814"
      },
      "outputs": [
        {
          "output_type": "execute_result",
          "data": {
            "text/plain": [
              "(15.216818227999966, 0.642857911999954)"
            ]
          },
          "metadata": {},
          "execution_count": 17
        }
      ],
      "source": [
        "matmul_loop_time, matmul_slice_time"
      ]
    },
    {
      "cell_type": "code",
      "execution_count": 18,
      "metadata": {
        "colab": {
          "base_uri": "https://localhost:8080/"
        },
        "id": "pRcrqE2GR4n_",
        "outputId": "72c26b7c-ba2b-4492-a8c2-ccabd3f7fc11"
      },
      "outputs": [
        {
          "output_type": "stream",
          "name": "stdout",
          "text": [
            "Basic matrix multiplication of a 64x32 matrix with 32x64 matrix in python takes about 15 seconds!\n"
          ]
        }
      ],
      "source": [
        "print(f\"Basic matrix multiplication of a {A.shape[0]}x{A.shape[1]} matrix \"\n",
        "      f\"with {B.shape[0]}x{B.shape[1]} matrix in python \"\n",
        "      f\"takes about {matmul_loop_time:.0f} seconds!\")"
      ]
    },
    {
      "cell_type": "code",
      "execution_count": 19,
      "metadata": {
        "id": "mMOYWEYXR4n_"
      },
      "outputs": [],
      "source": [
        "loop_vs_slice = matmul_loop_time/matmul_slice_time"
      ]
    },
    {
      "cell_type": "code",
      "execution_count": 20,
      "metadata": {
        "colab": {
          "base_uri": "https://localhost:8080/"
        },
        "id": "NUt-B6frR4n_",
        "outputId": "cc099957-836d-47e1-c818-3dbf8c38d870"
      },
      "outputs": [
        {
          "output_type": "stream",
          "name": "stdout",
          "text": [
            "Array slicing is about 24 times faster than element wise product in three nested loops\n"
          ]
        }
      ],
      "source": [
        "print(f\"Array slicing is about {loop_vs_slice:.0f} times faster than element wise product in three nested loops\")"
      ]
    },
    {
      "cell_type": "markdown",
      "metadata": {
        "id": "WnVyk0QmR4n_"
      },
      "source": [
        "## Array Broadcasting"
      ]
    },
    {
      "cell_type": "code",
      "execution_count": 21,
      "metadata": {
        "id": "_Aje5-t8R4n_"
      },
      "outputs": [],
      "source": [
        "def matmul(A,B):\n",
        "    A_rows, A_cols = A.shape\n",
        "    B_rows, B_cols = B.shape\n",
        "    assert A_cols==B_rows,\\\n",
        "    f\"Inner dimensions must match: {A_cols} not equal to {B_rows}\"\n",
        "    C = torch.zeros([A_rows, B_cols])\n",
        "    for i in range(A_rows):\n",
        "        C[i,:] += (A[i,:]*B.t()).sum(1)\n",
        "    return C"
      ]
    },
    {
      "cell_type": "code",
      "execution_count": 22,
      "metadata": {
        "colab": {
          "base_uri": "https://localhost:8080/"
        },
        "id": "Duua0Vb3R4n_",
        "outputId": "411c1073-30fd-429c-8d8b-d71331ba7e82"
      },
      "outputs": [
        {
          "output_type": "execute_result",
          "data": {
            "text/plain": [
              "tensor([[ 6.,  6.],\n",
              "        [10., 11.],\n",
              "        [ 8., 13.]])"
            ]
          },
          "metadata": {},
          "execution_count": 22
        }
      ],
      "source": [
        "matmul(a,b)"
      ]
    },
    {
      "cell_type": "code",
      "execution_count": 23,
      "metadata": {
        "id": "gn6IOs9GR4n_"
      },
      "outputs": [],
      "source": [
        "test_approximately(matmul(A, B), (A@B))"
      ]
    },
    {
      "cell_type": "code",
      "execution_count": 24,
      "metadata": {
        "id": "9nHeGAiQR4n_"
      },
      "outputs": [],
      "source": [
        "matmul_broadcast_time = timeit.timeit(partial(matmul,A,B), number=10)"
      ]
    },
    {
      "cell_type": "markdown",
      "metadata": {
        "id": "2lPS7KrbR4oA"
      },
      "source": [
        "## Improvement with array broadcasting\n",
        "How fast is matrix multiplication with broadcasting compared to array slicing in two nested loops?"
      ]
    },
    {
      "cell_type": "code",
      "execution_count": 25,
      "metadata": {
        "colab": {
          "base_uri": "https://localhost:8080/"
        },
        "id": "gqRzTSsqR4oA",
        "outputId": "e17cf218-56e2-45d0-dfea-ac414c5757cc"
      },
      "outputs": [
        {
          "output_type": "execute_result",
          "data": {
            "text/plain": [
              "50.74959926174802"
            ]
          },
          "metadata": {},
          "execution_count": 25
        }
      ],
      "source": [
        "slice_vs_broadcast = matmul_slice_time/matmul_broadcast_time\n",
        "slice_vs_broadcast"
      ]
    },
    {
      "cell_type": "code",
      "execution_count": 26,
      "metadata": {
        "colab": {
          "base_uri": "https://localhost:8080/"
        },
        "id": "abysyJNQR4oA",
        "outputId": "ed989d5e-3e38-4d5a-d62e-a355ba2b8968"
      },
      "outputs": [
        {
          "output_type": "stream",
          "name": "stdout",
          "text": [
            "Array broadcasting is about 51 times faster than array slicing in two nested loops\n"
          ]
        }
      ],
      "source": [
        "print(f\"Array broadcasting is about {slice_vs_broadcast:.0f} times faster than array slicing in two nested loops\")"
      ]
    },
    {
      "cell_type": "markdown",
      "metadata": {
        "id": "8HiPB9EUR4oA"
      },
      "source": [
        "## Einstein Sum"
      ]
    },
    {
      "cell_type": "code",
      "execution_count": 27,
      "metadata": {
        "id": "l9kQEvqLR4oG"
      },
      "outputs": [],
      "source": [
        "def matmul(A,B):\n",
        "    A_rows, A_cols = A.shape\n",
        "    B_rows, B_cols = B.shape\n",
        "    assert A_cols==B_rows,\\\n",
        "    f\"Inner dimensions must match: {A_cols} not equal to {B_rows}\"\n",
        "    C = torch.zeros([A_rows, B_cols])\n",
        "    C = torch.einsum(\"ik,kj->ij\", A, B)\n",
        "    return C"
      ]
    },
    {
      "cell_type": "code",
      "execution_count": 28,
      "metadata": {
        "colab": {
          "base_uri": "https://localhost:8080/"
        },
        "id": "wXeeiSU3R4oG",
        "outputId": "77e9fa75-6b60-47e0-c5df-fe3b6d579b57"
      },
      "outputs": [
        {
          "output_type": "execute_result",
          "data": {
            "text/plain": [
              "tensor([[ 6.,  6.],\n",
              "        [10., 11.],\n",
              "        [ 8., 13.]])"
            ]
          },
          "metadata": {},
          "execution_count": 28
        }
      ],
      "source": [
        "matmul(a,b)"
      ]
    },
    {
      "cell_type": "code",
      "execution_count": 29,
      "metadata": {
        "id": "H8sLf35aR4oG"
      },
      "outputs": [],
      "source": [
        "test_approximately(matmul(A,B), (A@B))"
      ]
    },
    {
      "cell_type": "code",
      "execution_count": 30,
      "metadata": {
        "id": "WdM5xM9-R4oG"
      },
      "outputs": [],
      "source": [
        "matmul_einsum_time = timeit.timeit(partial(matmul,A,B), number=10)"
      ]
    },
    {
      "cell_type": "markdown",
      "metadata": {
        "id": "j7GYzfX8R4oG"
      },
      "source": [
        "## Improvement with einstein sum\n",
        "How fast is matrix multiplication with einstein sum compared to array broadcasting?"
      ]
    },
    {
      "cell_type": "code",
      "execution_count": 31,
      "metadata": {
        "colab": {
          "base_uri": "https://localhost:8080/"
        },
        "id": "YHpnUO7tR4oG",
        "outputId": "4336ce4a-0600-4037-f50b-00b07e21616c"
      },
      "outputs": [
        {
          "output_type": "execute_result",
          "data": {
            "text/plain": [
              "14.048343664400022"
            ]
          },
          "metadata": {},
          "execution_count": 31
        }
      ],
      "source": [
        "broadcast_vs_einsum = matmul_broadcast_time/matmul_einsum_time\n",
        "broadcast_vs_einsum"
      ]
    },
    {
      "cell_type": "code",
      "execution_count": 32,
      "metadata": {
        "colab": {
          "base_uri": "https://localhost:8080/"
        },
        "id": "DG7YCG1rR4oH",
        "outputId": "7031bf02-6975-4d52-f596-bc4c1d73b96d"
      },
      "outputs": [
        {
          "output_type": "stream",
          "name": "stdout",
          "text": [
            "Einstein sum is about 14 times faster than array broadcasting\n"
          ]
        }
      ],
      "source": [
        "print(f\"Einstein sum is about {broadcast_vs_einsum:.0f} times faster than array broadcasting\")"
      ]
    },
    {
      "cell_type": "markdown",
      "metadata": {
        "id": "hFCnpF26R4oH"
      },
      "source": [
        "## Linear Algebra Libraries"
      ]
    },
    {
      "cell_type": "markdown",
      "metadata": {
        "id": "h7yZD-4zR4oH"
      },
      "source": [
        "Using BLAS (Basic Linear Algebra Subprograms) in PyTorch"
      ]
    },
    {
      "cell_type": "code",
      "execution_count": 33,
      "metadata": {
        "id": "8PGsZeyrR4oH"
      },
      "outputs": [],
      "source": [
        "matmul_blas_time = timeit.timeit(partial(torch.matmul,A,B), number=10)"
      ]
    },
    {
      "cell_type": "markdown",
      "metadata": {
        "id": "UIDm2Mk5R4oH"
      },
      "source": [
        "## Improvement with linear algebra libraries\n",
        "How fast is matrix multiplication in PyTorch compared to doing it standard python?"
      ]
    },
    {
      "cell_type": "code",
      "execution_count": 34,
      "metadata": {
        "colab": {
          "base_uri": "https://localhost:8080/"
        },
        "id": "CaWhTACLR4oH",
        "outputId": "96766c47-55d5-4499-85dc-5a8a9dd56ba3"
      },
      "outputs": [
        {
          "output_type": "execute_result",
          "data": {
            "text/plain": [
              "37319.90540960608"
            ]
          },
          "metadata": {},
          "execution_count": 34
        }
      ],
      "source": [
        "loop_vs_blas = matmul_loop_time/matmul_blas_time\n",
        "loop_vs_blas"
      ]
    },
    {
      "cell_type": "code",
      "execution_count": 35,
      "metadata": {
        "colab": {
          "base_uri": "https://localhost:8080/"
        },
        "id": "EW3KuzqFR4oH",
        "outputId": "f091a77f-cd51-4269-d2ad-2caf954e9792"
      },
      "outputs": [
        {
          "output_type": "stream",
          "name": "stdout",
          "text": [
            "Matrix multiplication in PyTorch is about 37320 times faster than using standard Python!\n"
          ]
        }
      ],
      "source": [
        "print(f\"Matrix multiplication in PyTorch is about {loop_vs_blas:.0f} times faster than using standard Python!\")"
      ]
    },
    {
      "cell_type": "code",
      "source": [
        "import jax, jax.numpy as jnp, time\n",
        "key = jax.random.PRNGKey(0)\n",
        "N = 4096\n",
        "A = jax.random.uniform(key, (N, N), dtype=jnp.float32)\n",
        "B = jax.random.uniform(key, (N, N), dtype=jnp.float32)\n",
        "\n",
        "@jax.jit\n",
        "def matmul(a,b): return a @ b\n",
        "\n",
        "matmul(A,B).block_until_ready()  # warm-up/compile\n",
        "\n",
        "t0 = time.perf_counter()\n",
        "matmul(A,B).block_until_ready()\n",
        "t1 = time.perf_counter()\n",
        "print(f\"TPU/JAX elapsed: {t1 - t0:.3f} s\")\n"
      ],
      "metadata": {
        "id": "zm8kb4SSTIY1",
        "outputId": "74b4d0c4-538d-42f0-e98e-4d4d6380f326",
        "colab": {
          "base_uri": "https://localhost:8080/"
        }
      },
      "execution_count": 36,
      "outputs": [
        {
          "output_type": "stream",
          "name": "stderr",
          "text": [
            "/usr/local/lib/python3.12/dist-packages/jax/_src/cloud_tpu_init.py:82: UserWarning: Transparent hugepages are not enabled. TPU runtime startup and shutdown time should be significantly improved on TPU v5e and newer. If not already set, you may need to enable transparent hugepages in your VM image (sudo sh -c \"echo always > /sys/kernel/mm/transparent_hugepage/enabled\")\n",
            "  warnings.warn(\n"
          ]
        },
        {
          "output_type": "stream",
          "name": "stdout",
          "text": [
            "TPU/JAX elapsed: 0.001 s\n"
          ]
        }
      ]
    },
    {
      "cell_type": "markdown",
      "metadata": {
        "id": "Uw1oCk63R4oH"
      },
      "source": [
        "___"
      ]
    }
  ],
  "metadata": {
    "kernelspec": {
      "display_name": "Python 3",
      "name": "python3"
    },
    "language_info": {
      "codemirror_mode": {
        "name": "ipython",
        "version": 3
      },
      "file_extension": ".py",
      "mimetype": "text/x-python",
      "name": "python",
      "nbconvert_exporter": "python",
      "pygments_lexer": "ipython3",
      "version": "3.7.5"
    },
    "toc": {
      "base_numbering": 1,
      "nav_menu": {},
      "number_sections": true,
      "sideBar": true,
      "skip_h1_title": false,
      "title_cell": "Table of Contents",
      "title_sidebar": "Contents",
      "toc_cell": true,
      "toc_position": {
        "height": "calc(100% - 180px)",
        "left": "10px",
        "top": "150px",
        "width": "242.067px"
      },
      "toc_section_display": true,
      "toc_window_display": true
    },
    "colab": {
      "provenance": [],
      "machine_shape": "hm",
      "gpuType": "V5E1"
    },
    "accelerator": "TPU"
  },
  "nbformat": 4,
  "nbformat_minor": 0
}