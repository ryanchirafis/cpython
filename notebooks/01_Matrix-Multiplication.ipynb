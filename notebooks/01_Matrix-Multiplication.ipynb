{
  "cells": [
    {
      "cell_type": "markdown",
      "metadata": {
        "id": "pMNmgyvnrXC3"
      },
      "source": [
        "# Quick Maths with Matrices!\n",
        "---"
      ]
    },
    {
      "cell_type": "markdown",
      "metadata": {
        "toc": true,
        "id": "Ui4-c4VMrXC5"
      },
      "source": [
        "<h1>Table of Contents<span class=\"tocSkip\"></span></h1>\n",
        "<div class=\"toc\"><ul class=\"toc-item\"><li><span><a href=\"#Quick-Maths-with-Matrices!\" data-toc-modified-id=\"Quick-Maths-with-Matrices!-1\"><span class=\"toc-item-num\">1&nbsp;&nbsp;</span>Quick Maths with Matrices!</a></span><ul class=\"toc-item\"><li><span><a href=\"#Import-Libraries\" data-toc-modified-id=\"Import-Libraries-1.1\"><span class=\"toc-item-num\">1.1&nbsp;&nbsp;</span>Import Libraries</a></span></li><li><span><a href=\"#Test-Framework\" data-toc-modified-id=\"Test-Framework-1.2\"><span class=\"toc-item-num\">1.2&nbsp;&nbsp;</span>Test Framework</a></span></li></ul></li><li><span><a href=\"#Optimizing-Matrix-Multiplications\" data-toc-modified-id=\"Optimizing-Matrix-Multiplications-2\"><span class=\"toc-item-num\">2&nbsp;&nbsp;</span>Optimizing Matrix Multiplications</a></span><ul class=\"toc-item\"><li><span><a href=\"#For-Loop\" data-toc-modified-id=\"For-Loop-2.1\"><span class=\"toc-item-num\">2.1&nbsp;&nbsp;</span>For Loop</a></span></li><li><span><a href=\"#Array-Slicing\" data-toc-modified-id=\"Array-Slicing-2.2\"><span class=\"toc-item-num\">2.2&nbsp;&nbsp;</span>Array Slicing</a></span></li><li><span><a href=\"#Improvement-with-array-slicing\" data-toc-modified-id=\"Improvement-with-array-slicing-2.3\"><span class=\"toc-item-num\">2.3&nbsp;&nbsp;</span>Improvement with array slicing</a></span></li><li><span><a href=\"#Array-Broadcasting\" data-toc-modified-id=\"Array-Broadcasting-2.4\"><span class=\"toc-item-num\">2.4&nbsp;&nbsp;</span>Array Broadcasting</a></span></li><li><span><a href=\"#Improvement-with-array-broadcasting\" data-toc-modified-id=\"Improvement-with-array-broadcasting-2.5\"><span class=\"toc-item-num\">2.5&nbsp;&nbsp;</span>Improvement with array broadcasting</a></span></li><li><span><a href=\"#Einstein-Sum\" data-toc-modified-id=\"Einstein-Sum-2.6\"><span class=\"toc-item-num\">2.6&nbsp;&nbsp;</span>Einstein Sum</a></span></li><li><span><a href=\"#Improvement-with-einstein-sum\" data-toc-modified-id=\"Improvement-with-einstein-sum-2.7\"><span class=\"toc-item-num\">2.7&nbsp;&nbsp;</span>Improvement with einstein sum</a></span></li><li><span><a href=\"#Linear-Algebra-Libraries\" data-toc-modified-id=\"Linear-Algebra-Libraries-2.8\"><span class=\"toc-item-num\">2.8&nbsp;&nbsp;</span>Linear Algebra Libraries</a></span></li><li><span><a href=\"#Improvement-with-linear-algebra-libraries\" data-toc-modified-id=\"Improvement-with-linear-algebra-libraries-2.9\"><span class=\"toc-item-num\">2.9&nbsp;&nbsp;</span>Improvement with linear algebra libraries</a></span></li></ul></li></ul></div>"
      ]
    },
    {
      "cell_type": "markdown",
      "metadata": {
        "id": "VWl9_fo9rXC6"
      },
      "source": [
        "## Import Libraries"
      ]
    },
    {
      "cell_type": "code",
      "execution_count": 1,
      "metadata": {
        "id": "zc8nS9FMrXC7"
      },
      "outputs": [],
      "source": [
        "import torch\n",
        "import timeit\n",
        "import operator\n",
        "from functools import partial"
      ]
    },
    {
      "cell_type": "markdown",
      "metadata": {
        "id": "FEgyaThErXC7"
      },
      "source": [
        "## Test Framework"
      ]
    },
    {
      "cell_type": "code",
      "execution_count": 2,
      "metadata": {
        "id": "1LhRTNmDrXC8"
      },
      "outputs": [],
      "source": [
        "def test(a, b, compare, compare_name=None):\n",
        "    if compare_name is None:\n",
        "        compare_name = compare.__name__\n",
        "    assert compare(a, b),\\\n",
        "    f\"{compare_name} check failed:\\n{a}\\n{b}\"\n",
        "\n",
        "def test_equality(a, b):\n",
        "    test(a, b, operator.eq, \"Equality\")\n",
        "\n",
        "def test_approximately(a, b):\n",
        "    allclose = partial(torch.allclose, atol=1e-5, rtol=1e-03)\n",
        "    if not isinstance(a, torch.Tensor) or not isinstance(b, torch.Tensor):\n",
        "        a = torch.tensor(a)\n",
        "        b = torch.tensor(b)\n",
        "    test(a, b, allclose, \"Approximate Equality\")"
      ]
    },
    {
      "cell_type": "code",
      "execution_count": 3,
      "metadata": {
        "id": "rvbiDGWerXC8"
      },
      "outputs": [],
      "source": [
        "test_equality(1e-5,1e-5)"
      ]
    },
    {
      "cell_type": "code",
      "execution_count": 4,
      "metadata": {
        "id": "GGhre0tGrXC9"
      },
      "outputs": [],
      "source": [
        "test_approximately(1e-5, 1e-6)"
      ]
    },
    {
      "cell_type": "markdown",
      "metadata": {
        "id": "dGJeG95ZrXC9"
      },
      "source": [
        "# Optimizing Matrix Multiplications"
      ]
    },
    {
      "cell_type": "markdown",
      "metadata": {
        "id": "kF51xlqXrXC9"
      },
      "source": [
        "**Toy Variables**"
      ]
    },
    {
      "cell_type": "code",
      "execution_count": 5,
      "metadata": {
        "id": "4lz6zQf7rXC-"
      },
      "outputs": [],
      "source": [
        "a = torch.tensor([[1.,2.,1.],\n",
        "                  [2.,3.,2.],\n",
        "                  [3.,1.,3.]])\n",
        "\n",
        "b = torch.tensor([[1., 2.],\n",
        "                  [2., 1.],\n",
        "                  [1., 2.]])"
      ]
    },
    {
      "cell_type": "code",
      "execution_count": 6,
      "metadata": {
        "colab": {
          "base_uri": "https://localhost:8080/"
        },
        "id": "GhXMFCpSrXC-",
        "outputId": "6f17c789-f205-41df-a255-7482099feae2"
      },
      "outputs": [
        {
          "output_type": "execute_result",
          "data": {
            "text/plain": [
              "tensor([[ 6.,  6.],\n",
              "        [10., 11.],\n",
              "        [ 8., 13.]])"
            ]
          },
          "metadata": {},
          "execution_count": 6
        }
      ],
      "source": [
        "a@b"
      ]
    },
    {
      "cell_type": "markdown",
      "metadata": {
        "id": "3jMIfB-0rXC-"
      },
      "source": [
        "**Test Variables**"
      ]
    },
    {
      "cell_type": "code",
      "execution_count": 7,
      "metadata": {
        "id": "yxWscDerrXC_"
      },
      "outputs": [],
      "source": [
        "A = torch.randn([64,32])\n",
        "B = torch.randn([32,64])"
      ]
    },
    {
      "cell_type": "code",
      "execution_count": 8,
      "metadata": {
        "colab": {
          "base_uri": "https://localhost:8080/"
        },
        "id": "_knrU3CRrXC_",
        "outputId": "f203ba08-6480-4885-cecc-b7d14d36ee23"
      },
      "outputs": [
        {
          "output_type": "execute_result",
          "data": {
            "text/plain": [
              "torch.Size([64, 64])"
            ]
          },
          "metadata": {},
          "execution_count": 8
        }
      ],
      "source": [
        "(A@B).shape"
      ]
    },
    {
      "cell_type": "markdown",
      "metadata": {
        "id": "Ee0VU0ePrXC_"
      },
      "source": [
        "## For Loop"
      ]
    },
    {
      "cell_type": "code",
      "execution_count": 9,
      "metadata": {
        "id": "YCnwhVvorXDA"
      },
      "outputs": [],
      "source": [
        "def matmul(A,B):\n",
        "    A_rows, A_cols = A.shape\n",
        "    B_rows, B_cols = B.shape\n",
        "    assert A_cols==B_rows,\\\n",
        "    f\"Inner dimensions must match: {A_cols} not equal to {B_rows}\"\n",
        "    C = torch.zeros([A_rows, B_cols])\n",
        "    for i in range(A_rows):\n",
        "        for j in range(B_cols):\n",
        "            for k in range(A_cols):\n",
        "                C[i,j] += A[i,k] * B[k,j]\n",
        "    return C"
      ]
    },
    {
      "cell_type": "code",
      "execution_count": 10,
      "metadata": {
        "colab": {
          "base_uri": "https://localhost:8080/"
        },
        "id": "PF3ah1ukrXDA",
        "outputId": "abfe4e80-23c2-4c44-fe0c-33809666f4d9"
      },
      "outputs": [
        {
          "output_type": "execute_result",
          "data": {
            "text/plain": [
              "tensor([[ 6.,  6.],\n",
              "        [10., 11.],\n",
              "        [ 8., 13.]])"
            ]
          },
          "metadata": {},
          "execution_count": 10
        }
      ],
      "source": [
        "matmul(a,b)"
      ]
    },
    {
      "cell_type": "code",
      "execution_count": 11,
      "metadata": {
        "id": "AP_ED0nirXDA"
      },
      "outputs": [],
      "source": [
        "test_approximately(matmul(A, B), (A@B))"
      ]
    },
    {
      "cell_type": "code",
      "execution_count": 12,
      "metadata": {
        "colab": {
          "base_uri": "https://localhost:8080/"
        },
        "id": "acH7io3-rXDA",
        "outputId": "18f7ff95-8cec-4e4c-9aa5-5726f8544e32"
      },
      "outputs": [
        {
          "output_type": "execute_result",
          "data": {
            "text/plain": [
              "24.10133221199999"
            ]
          },
          "metadata": {},
          "execution_count": 12
        }
      ],
      "source": [
        "matmul_loop_time = timeit.timeit(partial(matmul,A,B), number=10)\n",
        "matmul_loop_time"
      ]
    },
    {
      "cell_type": "markdown",
      "metadata": {
        "id": "rSkKY2FRrXDB"
      },
      "source": [
        "## Array Slicing"
      ]
    },
    {
      "cell_type": "code",
      "execution_count": 13,
      "metadata": {
        "id": "FPw_-aNprXDB"
      },
      "outputs": [],
      "source": [
        "def matmul(A,B):\n",
        "    A_rows, A_cols = A.shape\n",
        "    B_rows, B_cols = B.shape\n",
        "    assert A_cols==B_rows,\\\n",
        "    f\"Inner dimensions must match: {A_cols} not equal to {B_rows}\"\n",
        "    C = torch.zeros([A_rows, B_cols])\n",
        "    for i in range(A_rows):\n",
        "        for j in range(B_cols):\n",
        "            C[i,j] += (A[i,:]*B[:,j]).sum()\n",
        "    return C"
      ]
    },
    {
      "cell_type": "code",
      "execution_count": 14,
      "metadata": {
        "colab": {
          "base_uri": "https://localhost:8080/"
        },
        "id": "tEPrG9TKrXDB",
        "outputId": "cab1b1f9-7b30-4d44-edd0-cf95f9541c77"
      },
      "outputs": [
        {
          "output_type": "execute_result",
          "data": {
            "text/plain": [
              "tensor([[ 6.,  6.],\n",
              "        [10., 11.],\n",
              "        [ 8., 13.]])"
            ]
          },
          "metadata": {},
          "execution_count": 14
        }
      ],
      "source": [
        "matmul(a,b)"
      ]
    },
    {
      "cell_type": "code",
      "execution_count": 15,
      "metadata": {
        "id": "TKm4ZsoTrXDB"
      },
      "outputs": [],
      "source": [
        "test_approximately(matmul(A,B), (A@B))"
      ]
    },
    {
      "cell_type": "code",
      "execution_count": 16,
      "metadata": {
        "id": "JmVKIGeRrXDB"
      },
      "outputs": [],
      "source": [
        "matmul_slice_time = timeit.timeit(partial(matmul,A,B), number=10)"
      ]
    },
    {
      "cell_type": "markdown",
      "metadata": {
        "id": "NgHn3wY2rXDC"
      },
      "source": [
        "## Improvement with array slicing\n",
        "How fast is matrix multiplication with array slicing in two nested loops compared to element wise product in three nested loops?"
      ]
    },
    {
      "cell_type": "code",
      "execution_count": 17,
      "metadata": {
        "colab": {
          "base_uri": "https://localhost:8080/"
        },
        "id": "dzZCwX-brXDC",
        "outputId": "53908d73-88fb-44f4-9ae1-9e271ad14831"
      },
      "outputs": [
        {
          "output_type": "execute_result",
          "data": {
            "text/plain": [
              "(24.10133221199999, 1.0316495740000846)"
            ]
          },
          "metadata": {},
          "execution_count": 17
        }
      ],
      "source": [
        "matmul_loop_time, matmul_slice_time"
      ]
    },
    {
      "cell_type": "code",
      "execution_count": 18,
      "metadata": {
        "colab": {
          "base_uri": "https://localhost:8080/"
        },
        "id": "2BVzGmWarXDC",
        "outputId": "f6cea468-3c5d-4df4-a8e7-98b58c5716a3"
      },
      "outputs": [
        {
          "output_type": "stream",
          "name": "stdout",
          "text": [
            "Basic matrix multiplication of a 64x32 matrix with 32x64 matrix in python takes about 24 seconds!\n"
          ]
        }
      ],
      "source": [
        "print(f\"Basic matrix multiplication of a {A.shape[0]}x{A.shape[1]} matrix \"\n",
        "      f\"with {B.shape[0]}x{B.shape[1]} matrix in python \"\n",
        "      f\"takes about {matmul_loop_time:.0f} seconds!\")"
      ]
    },
    {
      "cell_type": "code",
      "execution_count": 19,
      "metadata": {
        "id": "FgnJxNGhrXDC"
      },
      "outputs": [],
      "source": [
        "loop_vs_slice = matmul_loop_time/matmul_slice_time"
      ]
    },
    {
      "cell_type": "code",
      "execution_count": 20,
      "metadata": {
        "colab": {
          "base_uri": "https://localhost:8080/"
        },
        "id": "pSkryuXdrXDC",
        "outputId": "d216edf5-0aad-421a-c7a7-977374801326"
      },
      "outputs": [
        {
          "output_type": "stream",
          "name": "stdout",
          "text": [
            "Array slicing is about 23 times faster than element wise product in three nested loops\n"
          ]
        }
      ],
      "source": [
        "print(f\"Array slicing is about {loop_vs_slice:.0f} times faster than element wise product in three nested loops\")"
      ]
    },
    {
      "cell_type": "markdown",
      "metadata": {
        "id": "N2FCUazVrXDD"
      },
      "source": [
        "## Array Broadcasting"
      ]
    },
    {
      "cell_type": "code",
      "execution_count": 21,
      "metadata": {
        "id": "gX_3SYPUrXDD"
      },
      "outputs": [],
      "source": [
        "def matmul(A,B):\n",
        "    A_rows, A_cols = A.shape\n",
        "    B_rows, B_cols = B.shape\n",
        "    assert A_cols==B_rows,\\\n",
        "    f\"Inner dimensions must match: {A_cols} not equal to {B_rows}\"\n",
        "    C = torch.zeros([A_rows, B_cols])\n",
        "    for i in range(A_rows):\n",
        "        C[i,:] += (A[i,:]*B.t()).sum(1)\n",
        "    return C"
      ]
    },
    {
      "cell_type": "code",
      "execution_count": 22,
      "metadata": {
        "colab": {
          "base_uri": "https://localhost:8080/"
        },
        "id": "JlQAkIR3rXDD",
        "outputId": "d6ef318c-9282-4f41-8b1a-b767599d6a69"
      },
      "outputs": [
        {
          "output_type": "execute_result",
          "data": {
            "text/plain": [
              "tensor([[ 6.,  6.],\n",
              "        [10., 11.],\n",
              "        [ 8., 13.]])"
            ]
          },
          "metadata": {},
          "execution_count": 22
        }
      ],
      "source": [
        "matmul(a,b)"
      ]
    },
    {
      "cell_type": "code",
      "execution_count": 23,
      "metadata": {
        "id": "KtPcxYmSrXDD"
      },
      "outputs": [],
      "source": [
        "test_approximately(matmul(A, B), (A@B))"
      ]
    },
    {
      "cell_type": "code",
      "execution_count": 24,
      "metadata": {
        "id": "Sj3hDx0BrXDD"
      },
      "outputs": [],
      "source": [
        "matmul_broadcast_time = timeit.timeit(partial(matmul,A,B), number=10)"
      ]
    },
    {
      "cell_type": "markdown",
      "metadata": {
        "id": "WHIszziqrXDD"
      },
      "source": [
        "## Improvement with array broadcasting\n",
        "How fast is matrix multiplication with broadcasting compared to array slicing in two nested loops?"
      ]
    },
    {
      "cell_type": "code",
      "execution_count": 25,
      "metadata": {
        "colab": {
          "base_uri": "https://localhost:8080/"
        },
        "id": "RtRAjFmrrXDD",
        "outputId": "81508f1d-7d87-4251-b1fc-1479c9d1e549"
      },
      "outputs": [
        {
          "output_type": "execute_result",
          "data": {
            "text/plain": [
              "46.750984211460576"
            ]
          },
          "metadata": {},
          "execution_count": 25
        }
      ],
      "source": [
        "slice_vs_broadcast = matmul_slice_time/matmul_broadcast_time\n",
        "slice_vs_broadcast"
      ]
    },
    {
      "cell_type": "code",
      "execution_count": 26,
      "metadata": {
        "colab": {
          "base_uri": "https://localhost:8080/"
        },
        "id": "K9VrtxKwrXDE",
        "outputId": "076cbb07-9fc9-4a83-8d89-838b861f9b2e"
      },
      "outputs": [
        {
          "output_type": "stream",
          "name": "stdout",
          "text": [
            "Array broadcasting is about 47 times faster than array slicing in two nested loops\n"
          ]
        }
      ],
      "source": [
        "print(f\"Array broadcasting is about {slice_vs_broadcast:.0f} times faster than array slicing in two nested loops\")"
      ]
    },
    {
      "cell_type": "markdown",
      "metadata": {
        "id": "ias1Be4PrXDE"
      },
      "source": [
        "## Einstein Sum"
      ]
    },
    {
      "cell_type": "code",
      "execution_count": 27,
      "metadata": {
        "id": "EE311zqFrXDI"
      },
      "outputs": [],
      "source": [
        "def matmul(A,B):\n",
        "    A_rows, A_cols = A.shape\n",
        "    B_rows, B_cols = B.shape\n",
        "    assert A_cols==B_rows,\\\n",
        "    f\"Inner dimensions must match: {A_cols} not equal to {B_rows}\"\n",
        "    C = torch.zeros([A_rows, B_cols])\n",
        "    C = torch.einsum(\"ik,kj->ij\", A, B)\n",
        "    return C"
      ]
    },
    {
      "cell_type": "code",
      "execution_count": 28,
      "metadata": {
        "colab": {
          "base_uri": "https://localhost:8080/"
        },
        "id": "-JhWgPJ0rXDI",
        "outputId": "c58ae545-4400-4101-8549-8e0cd2c5cdb1"
      },
      "outputs": [
        {
          "output_type": "execute_result",
          "data": {
            "text/plain": [
              "tensor([[ 6.,  6.],\n",
              "        [10., 11.],\n",
              "        [ 8., 13.]])"
            ]
          },
          "metadata": {},
          "execution_count": 28
        }
      ],
      "source": [
        "matmul(a,b)"
      ]
    },
    {
      "cell_type": "code",
      "execution_count": 29,
      "metadata": {
        "id": "O8d_QWqQrXDJ"
      },
      "outputs": [],
      "source": [
        "test_approximately(matmul(A,B), (A@B))"
      ]
    },
    {
      "cell_type": "code",
      "execution_count": 30,
      "metadata": {
        "id": "Rj4nFqN1rXDJ"
      },
      "outputs": [],
      "source": [
        "matmul_einsum_time = timeit.timeit(partial(matmul,A,B), number=10)"
      ]
    },
    {
      "cell_type": "markdown",
      "metadata": {
        "id": "hUvtsmttrXDJ"
      },
      "source": [
        "## Improvement with einstein sum\n",
        "How fast is matrix multiplication with einstein sum compared to array broadcasting?"
      ]
    },
    {
      "cell_type": "code",
      "execution_count": 31,
      "metadata": {
        "colab": {
          "base_uri": "https://localhost:8080/"
        },
        "id": "_pW6-X3irXDJ",
        "outputId": "d551eb33-46da-4728-bbc6-29543253c8de"
      },
      "outputs": [
        {
          "output_type": "execute_result",
          "data": {
            "text/plain": [
              "19.245026944093553"
            ]
          },
          "metadata": {},
          "execution_count": 31
        }
      ],
      "source": [
        "broadcast_vs_einsum = matmul_broadcast_time/matmul_einsum_time\n",
        "broadcast_vs_einsum"
      ]
    },
    {
      "cell_type": "code",
      "execution_count": 32,
      "metadata": {
        "colab": {
          "base_uri": "https://localhost:8080/"
        },
        "id": "sPMDXwdTrXDK",
        "outputId": "84985ef6-68ff-4620-e0e2-7b22a29abd7d"
      },
      "outputs": [
        {
          "output_type": "stream",
          "name": "stdout",
          "text": [
            "Einstein sum is about 19 times faster than array broadcasting\n"
          ]
        }
      ],
      "source": [
        "print(f\"Einstein sum is about {broadcast_vs_einsum:.0f} times faster than array broadcasting\")"
      ]
    },
    {
      "cell_type": "markdown",
      "metadata": {
        "id": "AVLA_OzGrXDK"
      },
      "source": [
        "## Linear Algebra Libraries"
      ]
    },
    {
      "cell_type": "markdown",
      "metadata": {
        "id": "deRhzabcrXDK"
      },
      "source": [
        "Using BLAS (Basic Linear Algebra Subprograms) in PyTorch"
      ]
    },
    {
      "cell_type": "code",
      "execution_count": 33,
      "metadata": {
        "id": "MHqSmf2ArXDK"
      },
      "outputs": [],
      "source": [
        "matmul_blas_time = timeit.timeit(partial(torch.matmul,A,B), number=10)"
      ]
    },
    {
      "cell_type": "markdown",
      "metadata": {
        "id": "NyHnz86DrXDK"
      },
      "source": [
        "## Improvement with linear algebra libraries\n",
        "How fast is matrix multiplication in PyTorch compared to doing it standard python?"
      ]
    },
    {
      "cell_type": "code",
      "execution_count": 34,
      "metadata": {
        "colab": {
          "base_uri": "https://localhost:8080/"
        },
        "id": "PC-u3cY1rXDK",
        "outputId": "041de2b4-1c47-4fce-dabb-66819bd55a82"
      },
      "outputs": [
        {
          "output_type": "execute_result",
          "data": {
            "text/plain": [
              "28319.691922605358"
            ]
          },
          "metadata": {},
          "execution_count": 34
        }
      ],
      "source": [
        "loop_vs_blas = matmul_loop_time/matmul_blas_time\n",
        "loop_vs_blas"
      ]
    },
    {
      "cell_type": "code",
      "execution_count": 35,
      "metadata": {
        "colab": {
          "base_uri": "https://localhost:8080/"
        },
        "id": "vEPX2L6CrXDK",
        "outputId": "f2afa675-2625-42ee-9550-350c49b7a889"
      },
      "outputs": [
        {
          "output_type": "stream",
          "name": "stdout",
          "text": [
            "Matrix multiplication in PyTorch is about 28320 times faster than using standard Python!\n"
          ]
        }
      ],
      "source": [
        "print(f\"Matrix multiplication in PyTorch is about {loop_vs_blas:.0f} times faster than using standard Python!\")"
      ]
    },
    {
      "cell_type": "code",
      "source": [
        "import cupy as cp, time\n",
        "N = 4096\n",
        "A = cp.random.rand(N, N, dtype=cp.float32)\n",
        "B = cp.random.rand(N, N, dtype=cp.float32)\n",
        "C = A @ B  # warm-up\n",
        "cp.cuda.Stream.null.synchronize()\n",
        "\n",
        "t0 = time.perf_counter()\n",
        "C = A @ B\n",
        "cp.cuda.Stream.null.synchronize()\n",
        "t1 = time.perf_counter()\n",
        "print(f\"GPU/CuPy elapsed: {t1 - t0:.3f} s\")\n"
      ],
      "metadata": {
        "id": "opSTdpe0wAMf",
        "outputId": "00d4c065-978a-49fa-b146-7c6ecc372328",
        "colab": {
          "base_uri": "https://localhost:8080/"
        }
      },
      "execution_count": 36,
      "outputs": [
        {
          "output_type": "stream",
          "name": "stdout",
          "text": [
            "GPU/CuPy elapsed: 0.048 s\n"
          ]
        }
      ]
    },
    {
      "cell_type": "markdown",
      "metadata": {
        "id": "llZmMbnyrXDL"
      },
      "source": [
        "___"
      ]
    }
  ],
  "metadata": {
    "kernelspec": {
      "display_name": "Python 3",
      "name": "python3"
    },
    "language_info": {
      "codemirror_mode": {
        "name": "ipython",
        "version": 3
      },
      "file_extension": ".py",
      "mimetype": "text/x-python",
      "name": "python",
      "nbconvert_exporter": "python",
      "pygments_lexer": "ipython3",
      "version": "3.7.5"
    },
    "toc": {
      "base_numbering": 1,
      "nav_menu": {},
      "number_sections": true,
      "sideBar": true,
      "skip_h1_title": false,
      "title_cell": "Table of Contents",
      "title_sidebar": "Contents",
      "toc_cell": true,
      "toc_position": {
        "height": "calc(100% - 180px)",
        "left": "10px",
        "top": "150px",
        "width": "242.067px"
      },
      "toc_section_display": true,
      "toc_window_display": true
    },
    "colab": {
      "provenance": [],
      "machine_shape": "hm",
      "gpuType": "T4"
    },
    "accelerator": "GPU"
  },
  "nbformat": 4,
  "nbformat_minor": 0
}