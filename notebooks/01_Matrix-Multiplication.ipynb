{
  "cells": [
    {
      "cell_type": "markdown",
      "metadata": {
        "id": "pMNmgyvnrXC3"
      },
      "source": [
        "# Quick Maths with Matrices!\n",
        "---"
      ]
    },
    {
      "cell_type": "markdown",
      "metadata": {
        "toc": true,
        "id": "Ui4-c4VMrXC5"
      },
      "source": [
        "<h1>Table of Contents<span class=\"tocSkip\"></span></h1>\n",
        "<div class=\"toc\"><ul class=\"toc-item\"><li><span><a href=\"#Quick-Maths-with-Matrices!\" data-toc-modified-id=\"Quick-Maths-with-Matrices!-1\"><span class=\"toc-item-num\">1&nbsp;&nbsp;</span>Quick Maths with Matrices!</a></span><ul class=\"toc-item\"><li><span><a href=\"#Import-Libraries\" data-toc-modified-id=\"Import-Libraries-1.1\"><span class=\"toc-item-num\">1.1&nbsp;&nbsp;</span>Import Libraries</a></span></li><li><span><a href=\"#Test-Framework\" data-toc-modified-id=\"Test-Framework-1.2\"><span class=\"toc-item-num\">1.2&nbsp;&nbsp;</span>Test Framework</a></span></li></ul></li><li><span><a href=\"#Optimizing-Matrix-Multiplications\" data-toc-modified-id=\"Optimizing-Matrix-Multiplications-2\"><span class=\"toc-item-num\">2&nbsp;&nbsp;</span>Optimizing Matrix Multiplications</a></span><ul class=\"toc-item\"><li><span><a href=\"#For-Loop\" data-toc-modified-id=\"For-Loop-2.1\"><span class=\"toc-item-num\">2.1&nbsp;&nbsp;</span>For Loop</a></span></li><li><span><a href=\"#Array-Slicing\" data-toc-modified-id=\"Array-Slicing-2.2\"><span class=\"toc-item-num\">2.2&nbsp;&nbsp;</span>Array Slicing</a></span></li><li><span><a href=\"#Improvement-with-array-slicing\" data-toc-modified-id=\"Improvement-with-array-slicing-2.3\"><span class=\"toc-item-num\">2.3&nbsp;&nbsp;</span>Improvement with array slicing</a></span></li><li><span><a href=\"#Array-Broadcasting\" data-toc-modified-id=\"Array-Broadcasting-2.4\"><span class=\"toc-item-num\">2.4&nbsp;&nbsp;</span>Array Broadcasting</a></span></li><li><span><a href=\"#Improvement-with-array-broadcasting\" data-toc-modified-id=\"Improvement-with-array-broadcasting-2.5\"><span class=\"toc-item-num\">2.5&nbsp;&nbsp;</span>Improvement with array broadcasting</a></span></li><li><span><a href=\"#Einstein-Sum\" data-toc-modified-id=\"Einstein-Sum-2.6\"><span class=\"toc-item-num\">2.6&nbsp;&nbsp;</span>Einstein Sum</a></span></li><li><span><a href=\"#Improvement-with-einstein-sum\" data-toc-modified-id=\"Improvement-with-einstein-sum-2.7\"><span class=\"toc-item-num\">2.7&nbsp;&nbsp;</span>Improvement with einstein sum</a></span></li><li><span><a href=\"#Linear-Algebra-Libraries\" data-toc-modified-id=\"Linear-Algebra-Libraries-2.8\"><span class=\"toc-item-num\">2.8&nbsp;&nbsp;</span>Linear Algebra Libraries</a></span></li><li><span><a href=\"#Improvement-with-linear-algebra-libraries\" data-toc-modified-id=\"Improvement-with-linear-algebra-libraries-2.9\"><span class=\"toc-item-num\">2.9&nbsp;&nbsp;</span>Improvement with linear algebra libraries</a></span></li></ul></li></ul></div>"
      ]
    },
    {
      "cell_type": "markdown",
      "metadata": {
        "id": "VWl9_fo9rXC6"
      },
      "source": [
        "## Import Libraries"
      ]
    },
    {
      "cell_type": "code",
      "execution_count": 1,
      "metadata": {
        "id": "zc8nS9FMrXC7"
      },
      "outputs": [],
      "source": [
        "import torch\n",
        "import timeit\n",
        "import operator\n",
        "from functools import partial"
      ]
    },
    {
      "cell_type": "markdown",
      "metadata": {
        "id": "FEgyaThErXC7"
      },
      "source": [
        "## Test Framework"
      ]
    },
    {
      "cell_type": "code",
      "execution_count": 2,
      "metadata": {
        "id": "1LhRTNmDrXC8"
      },
      "outputs": [],
      "source": [
        "def test(a, b, compare, compare_name=None):\n",
        "    if compare_name is None:\n",
        "        compare_name = compare.__name__\n",
        "    assert compare(a, b),\\\n",
        "    f\"{compare_name} check failed:\\n{a}\\n{b}\"\n",
        "\n",
        "def test_equality(a, b):\n",
        "    test(a, b, operator.eq, \"Equality\")\n",
        "\n",
        "def test_approximately(a, b):\n",
        "    allclose = partial(torch.allclose, atol=1e-5, rtol=1e-03)\n",
        "    if not isinstance(a, torch.Tensor) or not isinstance(b, torch.Tensor):\n",
        "        a = torch.tensor(a)\n",
        "        b = torch.tensor(b)\n",
        "    test(a, b, allclose, \"Approximate Equality\")"
      ]
    },
    {
      "cell_type": "code",
      "execution_count": 3,
      "metadata": {
        "id": "rvbiDGWerXC8"
      },
      "outputs": [],
      "source": [
        "test_equality(1e-5,1e-5)"
      ]
    },
    {
      "cell_type": "code",
      "execution_count": 4,
      "metadata": {
        "id": "GGhre0tGrXC9"
      },
      "outputs": [],
      "source": [
        "test_approximately(1e-5, 1e-6)"
      ]
    },
    {
      "cell_type": "markdown",
      "metadata": {
        "id": "dGJeG95ZrXC9"
      },
      "source": [
        "# Optimizing Matrix Multiplications"
      ]
    },
    {
      "cell_type": "markdown",
      "metadata": {
        "id": "kF51xlqXrXC9"
      },
      "source": [
        "**Toy Variables**"
      ]
    },
    {
      "cell_type": "code",
      "execution_count": 5,
      "metadata": {
        "id": "4lz6zQf7rXC-"
      },
      "outputs": [],
      "source": [
        "a = torch.tensor([[1.,2.,1.],\n",
        "                  [2.,3.,2.],\n",
        "                  [3.,1.,3.]])\n",
        "\n",
        "b = torch.tensor([[1., 2.],\n",
        "                  [2., 1.],\n",
        "                  [1., 2.]])"
      ]
    },
    {
      "cell_type": "code",
      "execution_count": 6,
      "metadata": {
        "colab": {
          "base_uri": "https://localhost:8080/"
        },
        "id": "GhXMFCpSrXC-",
        "outputId": "a12b43e9-8416-4e13-8ce6-0303af4dc831"
      },
      "outputs": [
        {
          "output_type": "execute_result",
          "data": {
            "text/plain": [
              "tensor([[ 6.,  6.],\n",
              "        [10., 11.],\n",
              "        [ 8., 13.]])"
            ]
          },
          "metadata": {},
          "execution_count": 6
        }
      ],
      "source": [
        "a@b"
      ]
    },
    {
      "cell_type": "markdown",
      "metadata": {
        "id": "3jMIfB-0rXC-"
      },
      "source": [
        "**Test Variables**"
      ]
    },
    {
      "cell_type": "code",
      "execution_count": 7,
      "metadata": {
        "id": "yxWscDerrXC_"
      },
      "outputs": [],
      "source": [
        "A = torch.randn([64,32])\n",
        "B = torch.randn([32,64])"
      ]
    },
    {
      "cell_type": "code",
      "execution_count": 8,
      "metadata": {
        "colab": {
          "base_uri": "https://localhost:8080/"
        },
        "id": "_knrU3CRrXC_",
        "outputId": "a2ccbd58-40d3-45fc-e4db-5a3c57db5846"
      },
      "outputs": [
        {
          "output_type": "execute_result",
          "data": {
            "text/plain": [
              "torch.Size([64, 64])"
            ]
          },
          "metadata": {},
          "execution_count": 8
        }
      ],
      "source": [
        "(A@B).shape"
      ]
    },
    {
      "cell_type": "markdown",
      "metadata": {
        "id": "Ee0VU0ePrXC_"
      },
      "source": [
        "## For Loop"
      ]
    },
    {
      "cell_type": "code",
      "execution_count": 9,
      "metadata": {
        "id": "YCnwhVvorXDA"
      },
      "outputs": [],
      "source": [
        "def matmul(A,B):\n",
        "    A_rows, A_cols = A.shape\n",
        "    B_rows, B_cols = B.shape\n",
        "    assert A_cols==B_rows,\\\n",
        "    f\"Inner dimensions must match: {A_cols} not equal to {B_rows}\"\n",
        "    C = torch.zeros([A_rows, B_cols])\n",
        "    for i in range(A_rows):\n",
        "        for j in range(B_cols):\n",
        "            for k in range(A_cols):\n",
        "                C[i,j] += A[i,k] * B[k,j]\n",
        "    return C"
      ]
    },
    {
      "cell_type": "code",
      "execution_count": 10,
      "metadata": {
        "colab": {
          "base_uri": "https://localhost:8080/"
        },
        "id": "PF3ah1ukrXDA",
        "outputId": "d224ef7a-6bd2-4276-803d-8496fd43ec04"
      },
      "outputs": [
        {
          "output_type": "execute_result",
          "data": {
            "text/plain": [
              "tensor([[ 6.,  6.],\n",
              "        [10., 11.],\n",
              "        [ 8., 13.]])"
            ]
          },
          "metadata": {},
          "execution_count": 10
        }
      ],
      "source": [
        "matmul(a,b)"
      ]
    },
    {
      "cell_type": "code",
      "execution_count": 11,
      "metadata": {
        "id": "AP_ED0nirXDA"
      },
      "outputs": [],
      "source": [
        "test_approximately(matmul(A, B), (A@B))"
      ]
    },
    {
      "cell_type": "code",
      "execution_count": 12,
      "metadata": {
        "colab": {
          "base_uri": "https://localhost:8080/"
        },
        "id": "acH7io3-rXDA",
        "outputId": "5f0c03ff-1149-47ff-f4e4-b27225d3893c"
      },
      "outputs": [
        {
          "output_type": "execute_result",
          "data": {
            "text/plain": [
              "26.658151702999987"
            ]
          },
          "metadata": {},
          "execution_count": 12
        }
      ],
      "source": [
        "matmul_loop_time = timeit.timeit(partial(matmul,A,B), number=10)\n",
        "matmul_loop_time"
      ]
    },
    {
      "cell_type": "markdown",
      "metadata": {
        "id": "rSkKY2FRrXDB"
      },
      "source": [
        "## Array Slicing"
      ]
    },
    {
      "cell_type": "code",
      "execution_count": 13,
      "metadata": {
        "id": "FPw_-aNprXDB"
      },
      "outputs": [],
      "source": [
        "def matmul(A,B):\n",
        "    A_rows, A_cols = A.shape\n",
        "    B_rows, B_cols = B.shape\n",
        "    assert A_cols==B_rows,\\\n",
        "    f\"Inner dimensions must match: {A_cols} not equal to {B_rows}\"\n",
        "    C = torch.zeros([A_rows, B_cols])\n",
        "    for i in range(A_rows):\n",
        "        for j in range(B_cols):\n",
        "            C[i,j] += (A[i,:]*B[:,j]).sum()\n",
        "    return C"
      ]
    },
    {
      "cell_type": "code",
      "execution_count": 14,
      "metadata": {
        "colab": {
          "base_uri": "https://localhost:8080/"
        },
        "id": "tEPrG9TKrXDB",
        "outputId": "876da82a-9123-495b-9b78-9259b56b1593"
      },
      "outputs": [
        {
          "output_type": "execute_result",
          "data": {
            "text/plain": [
              "tensor([[ 6.,  6.],\n",
              "        [10., 11.],\n",
              "        [ 8., 13.]])"
            ]
          },
          "metadata": {},
          "execution_count": 14
        }
      ],
      "source": [
        "matmul(a,b)"
      ]
    },
    {
      "cell_type": "code",
      "execution_count": 15,
      "metadata": {
        "id": "TKm4ZsoTrXDB"
      },
      "outputs": [],
      "source": [
        "test_approximately(matmul(A,B), (A@B))"
      ]
    },
    {
      "cell_type": "code",
      "execution_count": 16,
      "metadata": {
        "id": "JmVKIGeRrXDB"
      },
      "outputs": [],
      "source": [
        "matmul_slice_time = timeit.timeit(partial(matmul,A,B), number=10)"
      ]
    },
    {
      "cell_type": "markdown",
      "metadata": {
        "id": "NgHn3wY2rXDC"
      },
      "source": [
        "## Improvement with array slicing\n",
        "How fast is matrix multiplication with array slicing in two nested loops compared to element wise product in three nested loops?"
      ]
    },
    {
      "cell_type": "code",
      "execution_count": 17,
      "metadata": {
        "colab": {
          "base_uri": "https://localhost:8080/"
        },
        "id": "dzZCwX-brXDC",
        "outputId": "9e474994-2943-4f48-a70e-a6075b9adcdb"
      },
      "outputs": [
        {
          "output_type": "execute_result",
          "data": {
            "text/plain": [
              "(26.658151702999987, 1.137066950000019)"
            ]
          },
          "metadata": {},
          "execution_count": 17
        }
      ],
      "source": [
        "matmul_loop_time, matmul_slice_time"
      ]
    },
    {
      "cell_type": "code",
      "execution_count": 18,
      "metadata": {
        "colab": {
          "base_uri": "https://localhost:8080/"
        },
        "id": "2BVzGmWarXDC",
        "outputId": "a11db61a-1076-4e4d-8dfd-2557f50da03e"
      },
      "outputs": [
        {
          "output_type": "stream",
          "name": "stdout",
          "text": [
            "Basic matrix multiplication of a 64x32 matrix with 32x64 matrix in python takes about 27 seconds!\n"
          ]
        }
      ],
      "source": [
        "print(f\"Basic matrix multiplication of a {A.shape[0]}x{A.shape[1]} matrix \"\n",
        "      f\"with {B.shape[0]}x{B.shape[1]} matrix in python \"\n",
        "      f\"takes about {matmul_loop_time:.0f} seconds!\")"
      ]
    },
    {
      "cell_type": "code",
      "execution_count": 19,
      "metadata": {
        "id": "FgnJxNGhrXDC"
      },
      "outputs": [],
      "source": [
        "loop_vs_slice = matmul_loop_time/matmul_slice_time"
      ]
    },
    {
      "cell_type": "code",
      "execution_count": 20,
      "metadata": {
        "colab": {
          "base_uri": "https://localhost:8080/"
        },
        "id": "pSkryuXdrXDC",
        "outputId": "811d4875-25ac-4d66-da88-289de5da4164"
      },
      "outputs": [
        {
          "output_type": "stream",
          "name": "stdout",
          "text": [
            "Array slicing is about 23 times faster than element wise product in three nested loops\n"
          ]
        }
      ],
      "source": [
        "print(f\"Array slicing is about {loop_vs_slice:.0f} times faster than element wise product in three nested loops\")"
      ]
    },
    {
      "cell_type": "markdown",
      "metadata": {
        "id": "N2FCUazVrXDD"
      },
      "source": [
        "## Array Broadcasting"
      ]
    },
    {
      "cell_type": "code",
      "execution_count": 21,
      "metadata": {
        "id": "gX_3SYPUrXDD"
      },
      "outputs": [],
      "source": [
        "def matmul(A,B):\n",
        "    A_rows, A_cols = A.shape\n",
        "    B_rows, B_cols = B.shape\n",
        "    assert A_cols==B_rows,\\\n",
        "    f\"Inner dimensions must match: {A_cols} not equal to {B_rows}\"\n",
        "    C = torch.zeros([A_rows, B_cols])\n",
        "    for i in range(A_rows):\n",
        "        C[i,:] += (A[i,:]*B.t()).sum(1)\n",
        "    return C"
      ]
    },
    {
      "cell_type": "code",
      "execution_count": 22,
      "metadata": {
        "colab": {
          "base_uri": "https://localhost:8080/"
        },
        "id": "JlQAkIR3rXDD",
        "outputId": "a1876f57-3b57-4801-d47a-83fed54dcf9e"
      },
      "outputs": [
        {
          "output_type": "execute_result",
          "data": {
            "text/plain": [
              "tensor([[ 6.,  6.],\n",
              "        [10., 11.],\n",
              "        [ 8., 13.]])"
            ]
          },
          "metadata": {},
          "execution_count": 22
        }
      ],
      "source": [
        "matmul(a,b)"
      ]
    },
    {
      "cell_type": "code",
      "execution_count": 23,
      "metadata": {
        "id": "KtPcxYmSrXDD"
      },
      "outputs": [],
      "source": [
        "test_approximately(matmul(A, B), (A@B))"
      ]
    },
    {
      "cell_type": "code",
      "execution_count": 24,
      "metadata": {
        "id": "Sj3hDx0BrXDD"
      },
      "outputs": [],
      "source": [
        "matmul_broadcast_time = timeit.timeit(partial(matmul,A,B), number=10)"
      ]
    },
    {
      "cell_type": "markdown",
      "metadata": {
        "id": "WHIszziqrXDD"
      },
      "source": [
        "## Improvement with array broadcasting\n",
        "How fast is matrix multiplication with broadcasting compared to array slicing in two nested loops?"
      ]
    },
    {
      "cell_type": "code",
      "execution_count": 25,
      "metadata": {
        "colab": {
          "base_uri": "https://localhost:8080/"
        },
        "id": "RtRAjFmrrXDD",
        "outputId": "fe063ea6-a567-4e90-cf18-8cfe76128f49"
      },
      "outputs": [
        {
          "output_type": "execute_result",
          "data": {
            "text/plain": [
              "52.38169263990248"
            ]
          },
          "metadata": {},
          "execution_count": 25
        }
      ],
      "source": [
        "slice_vs_broadcast = matmul_slice_time/matmul_broadcast_time\n",
        "slice_vs_broadcast"
      ]
    },
    {
      "cell_type": "code",
      "execution_count": 26,
      "metadata": {
        "colab": {
          "base_uri": "https://localhost:8080/"
        },
        "id": "K9VrtxKwrXDE",
        "outputId": "41bf5d59-ddac-42a9-848d-11d34097cb15"
      },
      "outputs": [
        {
          "output_type": "stream",
          "name": "stdout",
          "text": [
            "Array broadcasting is about 52 times faster than array slicing in two nested loops\n"
          ]
        }
      ],
      "source": [
        "print(f\"Array broadcasting is about {slice_vs_broadcast:.0f} times faster than array slicing in two nested loops\")"
      ]
    },
    {
      "cell_type": "markdown",
      "metadata": {
        "id": "ias1Be4PrXDE"
      },
      "source": [
        "## Einstein Sum"
      ]
    },
    {
      "cell_type": "code",
      "execution_count": 27,
      "metadata": {
        "id": "EE311zqFrXDI"
      },
      "outputs": [],
      "source": [
        "def matmul(A,B):\n",
        "    A_rows, A_cols = A.shape\n",
        "    B_rows, B_cols = B.shape\n",
        "    assert A_cols==B_rows,\\\n",
        "    f\"Inner dimensions must match: {A_cols} not equal to {B_rows}\"\n",
        "    C = torch.zeros([A_rows, B_cols])\n",
        "    C = torch.einsum(\"ik,kj->ij\", A, B)\n",
        "    return C"
      ]
    },
    {
      "cell_type": "code",
      "execution_count": 28,
      "metadata": {
        "colab": {
          "base_uri": "https://localhost:8080/"
        },
        "id": "-JhWgPJ0rXDI",
        "outputId": "ed1d4533-e42b-406e-fd8c-8af3daac43a8"
      },
      "outputs": [
        {
          "output_type": "execute_result",
          "data": {
            "text/plain": [
              "tensor([[ 6.,  6.],\n",
              "        [10., 11.],\n",
              "        [ 8., 13.]])"
            ]
          },
          "metadata": {},
          "execution_count": 28
        }
      ],
      "source": [
        "matmul(a,b)"
      ]
    },
    {
      "cell_type": "code",
      "execution_count": 29,
      "metadata": {
        "id": "O8d_QWqQrXDJ"
      },
      "outputs": [],
      "source": [
        "test_approximately(matmul(A,B), (A@B))"
      ]
    },
    {
      "cell_type": "code",
      "execution_count": 30,
      "metadata": {
        "id": "Rj4nFqN1rXDJ"
      },
      "outputs": [],
      "source": [
        "matmul_einsum_time = timeit.timeit(partial(matmul,A,B), number=10)"
      ]
    },
    {
      "cell_type": "markdown",
      "metadata": {
        "id": "hUvtsmttrXDJ"
      },
      "source": [
        "## Improvement with einstein sum\n",
        "How fast is matrix multiplication with einstein sum compared to array broadcasting?"
      ]
    },
    {
      "cell_type": "code",
      "execution_count": 31,
      "metadata": {
        "colab": {
          "base_uri": "https://localhost:8080/"
        },
        "id": "_pW6-X3irXDJ",
        "outputId": "fc5d3494-2f4b-4716-96fc-17436f23e273"
      },
      "outputs": [
        {
          "output_type": "execute_result",
          "data": {
            "text/plain": [
              "24.27985888797496"
            ]
          },
          "metadata": {},
          "execution_count": 31
        }
      ],
      "source": [
        "broadcast_vs_einsum = matmul_broadcast_time/matmul_einsum_time\n",
        "broadcast_vs_einsum"
      ]
    },
    {
      "cell_type": "code",
      "execution_count": 32,
      "metadata": {
        "colab": {
          "base_uri": "https://localhost:8080/"
        },
        "id": "sPMDXwdTrXDK",
        "outputId": "0394e765-6bad-4a06-8b6f-819af2aa632c"
      },
      "outputs": [
        {
          "output_type": "stream",
          "name": "stdout",
          "text": [
            "Einstein sum is about 24 times faster than array broadcasting\n"
          ]
        }
      ],
      "source": [
        "print(f\"Einstein sum is about {broadcast_vs_einsum:.0f} times faster than array broadcasting\")"
      ]
    },
    {
      "cell_type": "markdown",
      "metadata": {
        "id": "AVLA_OzGrXDK"
      },
      "source": [
        "## Linear Algebra Libraries"
      ]
    },
    {
      "cell_type": "markdown",
      "metadata": {
        "id": "deRhzabcrXDK"
      },
      "source": [
        "Using BLAS (Basic Linear Algebra Subprograms) in PyTorch"
      ]
    },
    {
      "cell_type": "code",
      "execution_count": 33,
      "metadata": {
        "id": "MHqSmf2ArXDK"
      },
      "outputs": [],
      "source": [
        "matmul_blas_time = timeit.timeit(partial(torch.matmul,A,B), number=10)"
      ]
    },
    {
      "cell_type": "markdown",
      "metadata": {
        "id": "NyHnz86DrXDK"
      },
      "source": [
        "## Improvement with linear algebra libraries\n",
        "How fast is matrix multiplication in PyTorch compared to doing it standard python?"
      ]
    },
    {
      "cell_type": "code",
      "execution_count": 34,
      "metadata": {
        "colab": {
          "base_uri": "https://localhost:8080/"
        },
        "id": "PC-u3cY1rXDK",
        "outputId": "39946f7e-79ed-4245-9fad-71373f3b6a72"
      },
      "outputs": [
        {
          "output_type": "execute_result",
          "data": {
            "text/plain": [
              "40438.194298811395"
            ]
          },
          "metadata": {},
          "execution_count": 34
        }
      ],
      "source": [
        "loop_vs_blas = matmul_loop_time/matmul_blas_time\n",
        "loop_vs_blas"
      ]
    },
    {
      "cell_type": "code",
      "execution_count": 35,
      "metadata": {
        "colab": {
          "base_uri": "https://localhost:8080/"
        },
        "id": "vEPX2L6CrXDK",
        "outputId": "eb912c91-d0f7-4f16-a43f-df11f52ef4ad"
      },
      "outputs": [
        {
          "output_type": "stream",
          "name": "stdout",
          "text": [
            "Matrix multiplication in PyTorch is about 40438 times faster than using standard Python!\n"
          ]
        }
      ],
      "source": [
        "print(f\"Matrix multiplication in PyTorch is about {loop_vs_blas:.0f} times faster than using standard Python!\")"
      ]
    },
    {
      "cell_type": "code",
      "source": [
        "import cupy as cp, time\n",
        "N = 4096\n",
        "A = cp.random.rand(N, N, dtype=cp.float32)\n",
        "B = cp.random.rand(N, N, dtype=cp.float32)\n",
        "C = A @ B  # warm-up\n",
        "cp.cuda.Stream.null.synchronize()\n",
        "\n",
        "t0 = time.perf_counter()\n",
        "C = A @ B\n",
        "cp.cuda.Stream.null.synchronize()\n",
        "t1 = time.perf_counter()\n",
        "print(f\"GPU/CuPy elapsed: {t1 - t0:.3f} s\")\n"
      ],
      "metadata": {
        "id": "DBq9sV9GvKGY",
        "outputId": "25c52a91-1f30-4d52-e1a6-d891e8e604e9",
        "colab": {
          "base_uri": "https://localhost:8080/"
        }
      },
      "execution_count": 36,
      "outputs": [
        {
          "output_type": "stream",
          "name": "stdout",
          "text": [
            "GPU/CuPy elapsed: 0.010 s\n"
          ]
        }
      ]
    },
    {
      "cell_type": "markdown",
      "metadata": {
        "id": "llZmMbnyrXDL"
      },
      "source": [
        "___"
      ]
    }
  ],
  "metadata": {
    "kernelspec": {
      "display_name": "Python 3",
      "name": "python3"
    },
    "language_info": {
      "codemirror_mode": {
        "name": "ipython",
        "version": 3
      },
      "file_extension": ".py",
      "mimetype": "text/x-python",
      "name": "python",
      "nbconvert_exporter": "python",
      "pygments_lexer": "ipython3",
      "version": "3.7.5"
    },
    "toc": {
      "base_numbering": 1,
      "nav_menu": {},
      "number_sections": true,
      "sideBar": true,
      "skip_h1_title": false,
      "title_cell": "Table of Contents",
      "title_sidebar": "Contents",
      "toc_cell": true,
      "toc_position": {
        "height": "calc(100% - 180px)",
        "left": "10px",
        "top": "150px",
        "width": "242.067px"
      },
      "toc_section_display": true,
      "toc_window_display": true
    },
    "colab": {
      "provenance": [],
      "gpuType": "A100"
    },
    "accelerator": "GPU"
  },
  "nbformat": 4,
  "nbformat_minor": 0
}