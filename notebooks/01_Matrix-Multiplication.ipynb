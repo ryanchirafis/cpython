{
  "cells": [
    {
      "cell_type": "markdown",
      "metadata": {
        "id": "pMNmgyvnrXC3"
      },
      "source": [
        "# Quick Maths with Matrices!\n",
        "---"
      ]
    },
    {
      "cell_type": "markdown",
      "metadata": {
        "toc": true,
        "id": "Ui4-c4VMrXC5"
      },
      "source": [
        "<h1>Table of Contents<span class=\"tocSkip\"></span></h1>\n",
        "<div class=\"toc\"><ul class=\"toc-item\"><li><span><a href=\"#Quick-Maths-with-Matrices!\" data-toc-modified-id=\"Quick-Maths-with-Matrices!-1\"><span class=\"toc-item-num\">1&nbsp;&nbsp;</span>Quick Maths with Matrices!</a></span><ul class=\"toc-item\"><li><span><a href=\"#Import-Libraries\" data-toc-modified-id=\"Import-Libraries-1.1\"><span class=\"toc-item-num\">1.1&nbsp;&nbsp;</span>Import Libraries</a></span></li><li><span><a href=\"#Test-Framework\" data-toc-modified-id=\"Test-Framework-1.2\"><span class=\"toc-item-num\">1.2&nbsp;&nbsp;</span>Test Framework</a></span></li></ul></li><li><span><a href=\"#Optimizing-Matrix-Multiplications\" data-toc-modified-id=\"Optimizing-Matrix-Multiplications-2\"><span class=\"toc-item-num\">2&nbsp;&nbsp;</span>Optimizing Matrix Multiplications</a></span><ul class=\"toc-item\"><li><span><a href=\"#For-Loop\" data-toc-modified-id=\"For-Loop-2.1\"><span class=\"toc-item-num\">2.1&nbsp;&nbsp;</span>For Loop</a></span></li><li><span><a href=\"#Array-Slicing\" data-toc-modified-id=\"Array-Slicing-2.2\"><span class=\"toc-item-num\">2.2&nbsp;&nbsp;</span>Array Slicing</a></span></li><li><span><a href=\"#Improvement-with-array-slicing\" data-toc-modified-id=\"Improvement-with-array-slicing-2.3\"><span class=\"toc-item-num\">2.3&nbsp;&nbsp;</span>Improvement with array slicing</a></span></li><li><span><a href=\"#Array-Broadcasting\" data-toc-modified-id=\"Array-Broadcasting-2.4\"><span class=\"toc-item-num\">2.4&nbsp;&nbsp;</span>Array Broadcasting</a></span></li><li><span><a href=\"#Improvement-with-array-broadcasting\" data-toc-modified-id=\"Improvement-with-array-broadcasting-2.5\"><span class=\"toc-item-num\">2.5&nbsp;&nbsp;</span>Improvement with array broadcasting</a></span></li><li><span><a href=\"#Einstein-Sum\" data-toc-modified-id=\"Einstein-Sum-2.6\"><span class=\"toc-item-num\">2.6&nbsp;&nbsp;</span>Einstein Sum</a></span></li><li><span><a href=\"#Improvement-with-einstein-sum\" data-toc-modified-id=\"Improvement-with-einstein-sum-2.7\"><span class=\"toc-item-num\">2.7&nbsp;&nbsp;</span>Improvement with einstein sum</a></span></li><li><span><a href=\"#Linear-Algebra-Libraries\" data-toc-modified-id=\"Linear-Algebra-Libraries-2.8\"><span class=\"toc-item-num\">2.8&nbsp;&nbsp;</span>Linear Algebra Libraries</a></span></li><li><span><a href=\"#Improvement-with-linear-algebra-libraries\" data-toc-modified-id=\"Improvement-with-linear-algebra-libraries-2.9\"><span class=\"toc-item-num\">2.9&nbsp;&nbsp;</span>Improvement with linear algebra libraries</a></span></li></ul></li></ul></div>"
      ]
    },
    {
      "cell_type": "markdown",
      "metadata": {
        "id": "VWl9_fo9rXC6"
      },
      "source": [
        "## Import Libraries"
      ]
    },
    {
      "cell_type": "code",
      "execution_count": 71,
      "metadata": {
        "id": "zc8nS9FMrXC7"
      },
      "outputs": [],
      "source": [
        "import torch\n",
        "import timeit\n",
        "import operator\n",
        "from functools import partial"
      ]
    },
    {
      "cell_type": "markdown",
      "metadata": {
        "id": "FEgyaThErXC7"
      },
      "source": [
        "## Test Framework"
      ]
    },
    {
      "cell_type": "code",
      "execution_count": 72,
      "metadata": {
        "id": "1LhRTNmDrXC8"
      },
      "outputs": [],
      "source": [
        "def test(a, b, compare, compare_name=None):\n",
        "    if compare_name is None:\n",
        "        compare_name = compare.__name__\n",
        "    assert compare(a, b),\\\n",
        "    f\"{compare_name} check failed:\\n{a}\\n{b}\"\n",
        "\n",
        "def test_equality(a, b):\n",
        "    test(a, b, operator.eq, \"Equality\")\n",
        "\n",
        "def test_approximately(a, b):\n",
        "    allclose = partial(torch.allclose, atol=1e-5, rtol=1e-03)\n",
        "    if not isinstance(a, torch.Tensor) or not isinstance(b, torch.Tensor):\n",
        "        a = torch.tensor(a)\n",
        "        b = torch.tensor(b)\n",
        "    test(a, b, allclose, \"Approximate Equality\")"
      ]
    },
    {
      "cell_type": "code",
      "execution_count": 73,
      "metadata": {
        "id": "rvbiDGWerXC8"
      },
      "outputs": [],
      "source": [
        "test_equality(1e-5,1e-5)"
      ]
    },
    {
      "cell_type": "code",
      "execution_count": 74,
      "metadata": {
        "id": "GGhre0tGrXC9"
      },
      "outputs": [],
      "source": [
        "test_approximately(1e-5, 1e-6)"
      ]
    },
    {
      "cell_type": "markdown",
      "metadata": {
        "id": "dGJeG95ZrXC9"
      },
      "source": [
        "# Optimizing Matrix Multiplications"
      ]
    },
    {
      "cell_type": "markdown",
      "metadata": {
        "id": "kF51xlqXrXC9"
      },
      "source": [
        "**Toy Variables**"
      ]
    },
    {
      "cell_type": "code",
      "execution_count": 75,
      "metadata": {
        "id": "4lz6zQf7rXC-"
      },
      "outputs": [],
      "source": [
        "a = torch.tensor([[1.,2.,1.],\n",
        "                  [2.,3.,2.],\n",
        "                  [3.,1.,3.]])\n",
        "\n",
        "b = torch.tensor([[1., 2.],\n",
        "                  [2., 1.],\n",
        "                  [1., 2.]])"
      ]
    },
    {
      "cell_type": "code",
      "execution_count": 76,
      "metadata": {
        "id": "GhXMFCpSrXC-",
        "outputId": "a6b6ee3f-6322-4a5d-cde3-6b98658b653f",
        "colab": {
          "base_uri": "https://localhost:8080/"
        }
      },
      "outputs": [
        {
          "output_type": "execute_result",
          "data": {
            "text/plain": [
              "tensor([[ 6.,  6.],\n",
              "        [10., 11.],\n",
              "        [ 8., 13.]])"
            ]
          },
          "metadata": {},
          "execution_count": 76
        }
      ],
      "source": [
        "a@b"
      ]
    },
    {
      "cell_type": "markdown",
      "metadata": {
        "id": "3jMIfB-0rXC-"
      },
      "source": [
        "**Test Variables**"
      ]
    },
    {
      "cell_type": "code",
      "execution_count": 77,
      "metadata": {
        "id": "yxWscDerrXC_"
      },
      "outputs": [],
      "source": [
        "A = torch.randn([64,32])\n",
        "B = torch.randn([32,64])"
      ]
    },
    {
      "cell_type": "code",
      "execution_count": 78,
      "metadata": {
        "id": "_knrU3CRrXC_",
        "outputId": "193cae06-dcea-4494-b64d-3bcac2556dd7",
        "colab": {
          "base_uri": "https://localhost:8080/"
        }
      },
      "outputs": [
        {
          "output_type": "execute_result",
          "data": {
            "text/plain": [
              "torch.Size([64, 64])"
            ]
          },
          "metadata": {},
          "execution_count": 78
        }
      ],
      "source": [
        "(A@B).shape"
      ]
    },
    {
      "cell_type": "markdown",
      "metadata": {
        "id": "Ee0VU0ePrXC_"
      },
      "source": [
        "## For Loop"
      ]
    },
    {
      "cell_type": "code",
      "execution_count": 79,
      "metadata": {
        "id": "YCnwhVvorXDA"
      },
      "outputs": [],
      "source": [
        "def matmul(A,B):\n",
        "    A_rows, A_cols = A.shape\n",
        "    B_rows, B_cols = B.shape\n",
        "    assert A_cols==B_rows,\\\n",
        "    f\"Inner dimensions must match: {A_cols} not equal to {B_rows}\"\n",
        "    C = torch.zeros([A_rows, B_cols])\n",
        "    for i in range(A_rows):\n",
        "        for j in range(B_cols):\n",
        "            for k in range(A_cols):\n",
        "                C[i,j] += A[i,k] * B[k,j]\n",
        "    return C"
      ]
    },
    {
      "cell_type": "code",
      "execution_count": 80,
      "metadata": {
        "id": "PF3ah1ukrXDA",
        "outputId": "7802252d-b78e-41a9-f7eb-3f77047ff3e9",
        "colab": {
          "base_uri": "https://localhost:8080/"
        }
      },
      "outputs": [
        {
          "output_type": "execute_result",
          "data": {
            "text/plain": [
              "tensor([[ 6.,  6.],\n",
              "        [10., 11.],\n",
              "        [ 8., 13.]])"
            ]
          },
          "metadata": {},
          "execution_count": 80
        }
      ],
      "source": [
        "matmul(a,b)"
      ]
    },
    {
      "cell_type": "code",
      "execution_count": 81,
      "metadata": {
        "id": "AP_ED0nirXDA"
      },
      "outputs": [],
      "source": [
        "test_approximately(matmul(A, B), (A@B))"
      ]
    },
    {
      "cell_type": "code",
      "execution_count": 82,
      "metadata": {
        "id": "acH7io3-rXDA",
        "outputId": "12d5ea10-9f58-4242-9f4c-39a1c6da0438",
        "colab": {
          "base_uri": "https://localhost:8080/"
        }
      },
      "outputs": [
        {
          "output_type": "execute_result",
          "data": {
            "text/plain": [
              "33.016281330999846"
            ]
          },
          "metadata": {},
          "execution_count": 82
        }
      ],
      "source": [
        "matmul_loop_time = timeit.timeit(partial(matmul,A,B), number=10)\n",
        "matmul_loop_time"
      ]
    },
    {
      "cell_type": "markdown",
      "metadata": {
        "id": "rSkKY2FRrXDB"
      },
      "source": [
        "## Array Slicing"
      ]
    },
    {
      "cell_type": "code",
      "execution_count": 83,
      "metadata": {
        "id": "FPw_-aNprXDB"
      },
      "outputs": [],
      "source": [
        "def matmul(A,B):\n",
        "    A_rows, A_cols = A.shape\n",
        "    B_rows, B_cols = B.shape\n",
        "    assert A_cols==B_rows,\\\n",
        "    f\"Inner dimensions must match: {A_cols} not equal to {B_rows}\"\n",
        "    C = torch.zeros([A_rows, B_cols])\n",
        "    for i in range(A_rows):\n",
        "        for j in range(B_cols):\n",
        "            C[i,j] += (A[i,:]*B[:,j]).sum()\n",
        "    return C"
      ]
    },
    {
      "cell_type": "code",
      "execution_count": 84,
      "metadata": {
        "id": "tEPrG9TKrXDB",
        "outputId": "1e0e9b2c-c2a6-4104-f715-63a25fbe0dfb",
        "colab": {
          "base_uri": "https://localhost:8080/"
        }
      },
      "outputs": [
        {
          "output_type": "execute_result",
          "data": {
            "text/plain": [
              "tensor([[ 6.,  6.],\n",
              "        [10., 11.],\n",
              "        [ 8., 13.]])"
            ]
          },
          "metadata": {},
          "execution_count": 84
        }
      ],
      "source": [
        "matmul(a,b)"
      ]
    },
    {
      "cell_type": "code",
      "execution_count": 85,
      "metadata": {
        "id": "TKm4ZsoTrXDB"
      },
      "outputs": [],
      "source": [
        "test_approximately(matmul(A,B), (A@B))"
      ]
    },
    {
      "cell_type": "code",
      "execution_count": 86,
      "metadata": {
        "id": "JmVKIGeRrXDB"
      },
      "outputs": [],
      "source": [
        "matmul_slice_time = timeit.timeit(partial(matmul,A,B), number=10)"
      ]
    },
    {
      "cell_type": "markdown",
      "metadata": {
        "id": "NgHn3wY2rXDC"
      },
      "source": [
        "## Improvement with array slicing\n",
        "How fast is matrix multiplication with array slicing in two nested loops compared to element wise product in three nested loops?"
      ]
    },
    {
      "cell_type": "code",
      "execution_count": 87,
      "metadata": {
        "id": "dzZCwX-brXDC",
        "outputId": "a766d24b-47c0-4efe-f893-ba0c9c83ab5d",
        "colab": {
          "base_uri": "https://localhost:8080/"
        }
      },
      "outputs": [
        {
          "output_type": "execute_result",
          "data": {
            "text/plain": [
              "(33.016281330999846, 1.2977663340000163)"
            ]
          },
          "metadata": {},
          "execution_count": 87
        }
      ],
      "source": [
        "matmul_loop_time, matmul_slice_time"
      ]
    },
    {
      "cell_type": "code",
      "execution_count": 88,
      "metadata": {
        "id": "2BVzGmWarXDC",
        "outputId": "e1c80846-6c33-4257-82f2-eeda26e4078c",
        "colab": {
          "base_uri": "https://localhost:8080/"
        }
      },
      "outputs": [
        {
          "output_type": "stream",
          "name": "stdout",
          "text": [
            "Basic matrix multiplication of a 64x32 matrix with 32x64 matrix in python takes about 33 seconds!\n"
          ]
        }
      ],
      "source": [
        "print(f\"Basic matrix multiplication of a {A.shape[0]}x{A.shape[1]} matrix \"\n",
        "      f\"with {B.shape[0]}x{B.shape[1]} matrix in python \"\n",
        "      f\"takes about {matmul_loop_time:.0f} seconds!\")"
      ]
    },
    {
      "cell_type": "code",
      "execution_count": 89,
      "metadata": {
        "id": "FgnJxNGhrXDC"
      },
      "outputs": [],
      "source": [
        "loop_vs_slice = matmul_loop_time/matmul_slice_time"
      ]
    },
    {
      "cell_type": "code",
      "execution_count": 90,
      "metadata": {
        "id": "pSkryuXdrXDC",
        "outputId": "a775dbc0-50bc-4cbb-90ea-5a71f3631c16",
        "colab": {
          "base_uri": "https://localhost:8080/"
        }
      },
      "outputs": [
        {
          "output_type": "stream",
          "name": "stdout",
          "text": [
            "Array slicing is about 25 times faster than element wise product in three nested loops\n"
          ]
        }
      ],
      "source": [
        "print(f\"Array slicing is about {loop_vs_slice:.0f} times faster than element wise product in three nested loops\")"
      ]
    },
    {
      "cell_type": "markdown",
      "metadata": {
        "id": "N2FCUazVrXDD"
      },
      "source": [
        "## Array Broadcasting"
      ]
    },
    {
      "cell_type": "code",
      "execution_count": 91,
      "metadata": {
        "id": "gX_3SYPUrXDD"
      },
      "outputs": [],
      "source": [
        "def matmul(A,B):\n",
        "    A_rows, A_cols = A.shape\n",
        "    B_rows, B_cols = B.shape\n",
        "    assert A_cols==B_rows,\\\n",
        "    f\"Inner dimensions must match: {A_cols} not equal to {B_rows}\"\n",
        "    C = torch.zeros([A_rows, B_cols])\n",
        "    for i in range(A_rows):\n",
        "        C[i,:] += (A[i,:]*B.t()).sum(1)\n",
        "    return C"
      ]
    },
    {
      "cell_type": "code",
      "execution_count": 92,
      "metadata": {
        "id": "JlQAkIR3rXDD",
        "outputId": "1365b9b1-0563-4b6c-d26a-e660c4e11a66",
        "colab": {
          "base_uri": "https://localhost:8080/"
        }
      },
      "outputs": [
        {
          "output_type": "execute_result",
          "data": {
            "text/plain": [
              "tensor([[ 6.,  6.],\n",
              "        [10., 11.],\n",
              "        [ 8., 13.]])"
            ]
          },
          "metadata": {},
          "execution_count": 92
        }
      ],
      "source": [
        "matmul(a,b)"
      ]
    },
    {
      "cell_type": "code",
      "execution_count": 93,
      "metadata": {
        "id": "KtPcxYmSrXDD"
      },
      "outputs": [],
      "source": [
        "test_approximately(matmul(A, B), (A@B))"
      ]
    },
    {
      "cell_type": "code",
      "execution_count": 94,
      "metadata": {
        "id": "Sj3hDx0BrXDD"
      },
      "outputs": [],
      "source": [
        "matmul_broadcast_time = timeit.timeit(partial(matmul,A,B), number=10)"
      ]
    },
    {
      "cell_type": "markdown",
      "metadata": {
        "id": "WHIszziqrXDD"
      },
      "source": [
        "## Improvement with array broadcasting\n",
        "How fast is matrix multiplication with broadcasting compared to array slicing in two nested loops?"
      ]
    },
    {
      "cell_type": "code",
      "execution_count": 95,
      "metadata": {
        "id": "RtRAjFmrrXDD",
        "outputId": "c00c3422-4df9-48d2-c554-c2e0ac3cd3eb",
        "colab": {
          "base_uri": "https://localhost:8080/"
        }
      },
      "outputs": [
        {
          "output_type": "execute_result",
          "data": {
            "text/plain": [
              "45.85207231803895"
            ]
          },
          "metadata": {},
          "execution_count": 95
        }
      ],
      "source": [
        "slice_vs_broadcast = matmul_slice_time/matmul_broadcast_time\n",
        "slice_vs_broadcast"
      ]
    },
    {
      "cell_type": "code",
      "execution_count": 96,
      "metadata": {
        "id": "K9VrtxKwrXDE",
        "outputId": "d64e25b5-6b14-4c7c-83e6-829d22f7d7d2",
        "colab": {
          "base_uri": "https://localhost:8080/"
        }
      },
      "outputs": [
        {
          "output_type": "stream",
          "name": "stdout",
          "text": [
            "Array broadcasting is about 46 times faster than array slicing in two nested loops\n"
          ]
        }
      ],
      "source": [
        "print(f\"Array broadcasting is about {slice_vs_broadcast:.0f} times faster than array slicing in two nested loops\")"
      ]
    },
    {
      "cell_type": "markdown",
      "metadata": {
        "id": "ias1Be4PrXDE"
      },
      "source": [
        "## Einstein Sum"
      ]
    },
    {
      "cell_type": "code",
      "execution_count": 97,
      "metadata": {
        "id": "EE311zqFrXDI"
      },
      "outputs": [],
      "source": [
        "def matmul(A,B):\n",
        "    A_rows, A_cols = A.shape\n",
        "    B_rows, B_cols = B.shape\n",
        "    assert A_cols==B_rows,\\\n",
        "    f\"Inner dimensions must match: {A_cols} not equal to {B_rows}\"\n",
        "    C = torch.zeros([A_rows, B_cols])\n",
        "    C = torch.einsum(\"ik,kj->ij\", A, B)\n",
        "    return C"
      ]
    },
    {
      "cell_type": "code",
      "execution_count": 98,
      "metadata": {
        "id": "-JhWgPJ0rXDI",
        "outputId": "345341e3-da14-46a5-c5f0-c0fb891c7cd1",
        "colab": {
          "base_uri": "https://localhost:8080/"
        }
      },
      "outputs": [
        {
          "output_type": "execute_result",
          "data": {
            "text/plain": [
              "tensor([[ 6.,  6.],\n",
              "        [10., 11.],\n",
              "        [ 8., 13.]])"
            ]
          },
          "metadata": {},
          "execution_count": 98
        }
      ],
      "source": [
        "matmul(a,b)"
      ]
    },
    {
      "cell_type": "code",
      "execution_count": 99,
      "metadata": {
        "id": "O8d_QWqQrXDJ"
      },
      "outputs": [],
      "source": [
        "test_approximately(matmul(A,B), (A@B))"
      ]
    },
    {
      "cell_type": "code",
      "execution_count": 100,
      "metadata": {
        "id": "Rj4nFqN1rXDJ"
      },
      "outputs": [],
      "source": [
        "matmul_einsum_time = timeit.timeit(partial(matmul,A,B), number=10)"
      ]
    },
    {
      "cell_type": "markdown",
      "metadata": {
        "id": "hUvtsmttrXDJ"
      },
      "source": [
        "## Improvement with einstein sum\n",
        "How fast is matrix multiplication with einstein sum compared to array broadcasting?"
      ]
    },
    {
      "cell_type": "code",
      "execution_count": 101,
      "metadata": {
        "id": "_pW6-X3irXDJ",
        "outputId": "144bc895-f1dd-4f60-8e4c-ceb6476f9083",
        "colab": {
          "base_uri": "https://localhost:8080/"
        }
      },
      "outputs": [
        {
          "output_type": "execute_result",
          "data": {
            "text/plain": [
              "10.517027590465599"
            ]
          },
          "metadata": {},
          "execution_count": 101
        }
      ],
      "source": [
        "broadcast_vs_einsum = matmul_broadcast_time/matmul_einsum_time\n",
        "broadcast_vs_einsum"
      ]
    },
    {
      "cell_type": "code",
      "execution_count": 102,
      "metadata": {
        "id": "sPMDXwdTrXDK",
        "outputId": "4c150fe9-02bb-40f8-ee99-1b79e4283af6",
        "colab": {
          "base_uri": "https://localhost:8080/"
        }
      },
      "outputs": [
        {
          "output_type": "stream",
          "name": "stdout",
          "text": [
            "Einstein sum is about 11 times faster than array broadcasting\n"
          ]
        }
      ],
      "source": [
        "print(f\"Einstein sum is about {broadcast_vs_einsum:.0f} times faster than array broadcasting\")"
      ]
    },
    {
      "cell_type": "markdown",
      "metadata": {
        "id": "AVLA_OzGrXDK"
      },
      "source": [
        "## Linear Algebra Libraries"
      ]
    },
    {
      "cell_type": "markdown",
      "metadata": {
        "id": "deRhzabcrXDK"
      },
      "source": [
        "Using BLAS (Basic Linear Algebra Subprograms) in PyTorch"
      ]
    },
    {
      "cell_type": "code",
      "execution_count": 103,
      "metadata": {
        "id": "MHqSmf2ArXDK"
      },
      "outputs": [],
      "source": [
        "matmul_blas_time = timeit.timeit(partial(torch.matmul,A,B), number=10)"
      ]
    },
    {
      "cell_type": "markdown",
      "metadata": {
        "id": "NyHnz86DrXDK"
      },
      "source": [
        "## Improvement with linear algebra libraries\n",
        "How fast is matrix multiplication in PyTorch compared to doing it standard python?"
      ]
    },
    {
      "cell_type": "code",
      "execution_count": 104,
      "metadata": {
        "id": "PC-u3cY1rXDK",
        "outputId": "a7655f0d-7d50-4503-95e9-65d445b4b73d",
        "colab": {
          "base_uri": "https://localhost:8080/"
        }
      },
      "outputs": [
        {
          "output_type": "execute_result",
          "data": {
            "text/plain": [
              "15151.261835910083"
            ]
          },
          "metadata": {},
          "execution_count": 104
        }
      ],
      "source": [
        "loop_vs_blas = matmul_loop_time/matmul_blas_time\n",
        "loop_vs_blas"
      ]
    },
    {
      "cell_type": "code",
      "execution_count": 105,
      "metadata": {
        "id": "vEPX2L6CrXDK",
        "outputId": "0fb04b28-fc28-480c-ac42-34d6f02113bc",
        "colab": {
          "base_uri": "https://localhost:8080/"
        }
      },
      "outputs": [
        {
          "output_type": "stream",
          "name": "stdout",
          "text": [
            "Matrix multiplication in PyTorch is about 15151 times faster than using standard Python!\n"
          ]
        }
      ],
      "source": [
        "print(f\"Matrix multiplication in PyTorch is about {loop_vs_blas:.0f} times faster than using standard Python!\")"
      ]
    },
    {
      "cell_type": "markdown",
      "metadata": {
        "id": "llZmMbnyrXDL"
      },
      "source": [
        "___"
      ]
    }
  ],
  "metadata": {
    "kernelspec": {
      "display_name": "Python 3",
      "language": "python",
      "name": "python3"
    },
    "language_info": {
      "codemirror_mode": {
        "name": "ipython",
        "version": 3
      },
      "file_extension": ".py",
      "mimetype": "text/x-python",
      "name": "python",
      "nbconvert_exporter": "python",
      "pygments_lexer": "ipython3",
      "version": "3.7.5"
    },
    "toc": {
      "base_numbering": 1,
      "nav_menu": {},
      "number_sections": true,
      "sideBar": true,
      "skip_h1_title": false,
      "title_cell": "Table of Contents",
      "title_sidebar": "Contents",
      "toc_cell": true,
      "toc_position": {
        "height": "calc(100% - 180px)",
        "left": "10px",
        "top": "150px",
        "width": "242.067px"
      },
      "toc_section_display": true,
      "toc_window_display": true
    },
    "colab": {
      "provenance": []
    }
  },
  "nbformat": 4,
  "nbformat_minor": 0
}